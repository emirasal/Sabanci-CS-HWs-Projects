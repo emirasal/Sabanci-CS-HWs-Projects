{
  "nbformat": 4,
  "nbformat_minor": 0,
  "metadata": {
    "colab": {
      "name": "Covid_group_4_final.ipynb",
      "provenance": [],
      "collapsed_sections": []
    },
    "kernelspec": {
      "name": "python3",
      "display_name": "Python 3"
    },
    "language_info": {
      "name": "python"
    }
  },
  "cells": [
    {
      "cell_type": "markdown",
      "source": [
        "# COVID-19 PROJECT\n",
        "\n",
        "\n",
        "**Group Members:**\n",
        "\n",
        "\n",
        "\n",
        "\n",
        "\n",
        "\n",
        "\n",
        "Doruk Benli\n",
        "\n",
        "\n",
        "\n",
        "\n",
        "Ege Öztaş\n",
        "\n",
        "\n",
        "\n",
        "\n",
        "\n",
        "\n",
        "Gamze Arpa\n",
        "\n",
        "\n",
        "\n",
        "\n",
        "\n",
        "\n",
        "\n",
        "\n",
        "Emir Asal\n",
        "\n",
        "\n",
        "\n"
      ],
      "metadata": {
        "id": "dxCQz6NxAwmf"
      }
    },
    {
      "cell_type": "markdown",
      "source": [
        "# Introduction\n",
        "\n",
        "\n",
        "\n",
        "The aim of this project is to show the Covid-19 cumulative death counts and recovered cases from different parts of the world and regions of the world. We aim  to analyze the data and come up with a conclusion on how different countries with differet socio-economic bacgrounds deal with this virus, how two distincts of the same country deal with such virus and how this virus affects the seperate regions in the world. Through out the the process we aim to investigate different countries and later on aim to create a model that can predict the potential cases in a given timeline."
      ],
      "metadata": {
        "id": "6Eb3DoMIBL50"
      }
    },
    {
      "cell_type": "markdown",
      "source": [
        "# DataSet\n",
        "\n",
        "\n",
        "Our dataset consists of provided kaggle datasets and datasets that belongs to John Hopkins University and World Health Organization(WHO). Most of the dataset that belongs to kaggle is in csv format. Similarly Data from John Hopkins University and World Health Organization can also be represented as csv and excel\n"
      ],
      "metadata": {
        "id": "JylQKtvZEk3Z"
      }
    },
    {
      "cell_type": "code",
      "source": [
        "import pandas as pd\n",
        "import numpy as np\n",
        "import matplotlib.pyplot as plt\n",
        "from os.path import join"
      ],
      "metadata": {
        "id": "VyYyk0CYE80E"
      },
      "execution_count": null,
      "outputs": []
    },
    {
      "cell_type": "code",
      "source": [
        "from google.colab import drive\n",
        "drive.mount(\"./drive\")\n",
        "path_prefix = \"./drive/My Drive\""
      ],
      "metadata": {
        "colab": {
          "base_uri": "https://localhost:8080/"
        },
        "id": "j-KzWHcz3haC",
        "outputId": "aef7ae79-a273-470e-ce3a-7a63c44aa95f"
      },
      "execution_count": null,
      "outputs": [
        {
          "output_type": "stream",
          "name": "stdout",
          "text": [
            "Drive already mounted at ./drive; to attempt to forcibly remount, call drive.mount(\"./drive\", force_remount=True).\n"
          ]
        }
      ]
    },
    {
      "cell_type": "markdown",
      "source": [
        "# Reading the Turkey Dataset with respect to time\n",
        "\n",
        "\n",
        "\n",
        "the following dataset will show Turkey's progress throughout the Covid-19 pandemic with respect to time which means the amount of positive cases and death counts with respect to time."
      ],
      "metadata": {
        "id": "js_g4VHo4sbT"
      }
    },
    {
      "cell_type": "code",
      "source": [
        "fname = \"covid_19_data_tr.csv\"\n",
        "#df stands for dataframe\n",
        "df = pd.read_csv(join(path_prefix,fname))\n",
        "\n",
        "df.dtypes"
      ],
      "metadata": {
        "colab": {
          "base_uri": "https://localhost:8080/"
        },
        "id": "1i9V-yud5PJO",
        "outputId": "438fc67c-79a8-4023-edf6-01c429c100d6"
      },
      "execution_count": null,
      "outputs": [
        {
          "output_type": "execute_result",
          "data": {
            "text/plain": [
              "Province/State    float64\n",
              "Country/Region     object\n",
              "Confirmed           int64\n",
              "Deaths              int64\n",
              "Recovered           int64\n",
              "Last_Update        object\n",
              "dtype: object"
            ]
          },
          "metadata": {},
          "execution_count": 34
        }
      ]
    },
    {
      "cell_type": "markdown",
      "source": [
        "as it can be observed from the datatypes, since we analyze a country we are not interested with the Province/State part of this data, the Province/State actually returns Nan(non existence) value since it is missing in the dataset aswell, hence this should be cleared and handeled accordingly. The following code shows the head of the dataframe without dropping the Provinces/State column."
      ],
      "metadata": {
        "id": "pUGtDhNF_xXO"
      }
    },
    {
      "cell_type": "code",
      "source": [
        "df.head()"
      ],
      "metadata": {
        "colab": {
          "base_uri": "https://localhost:8080/",
          "height": 206
        },
        "id": "KQGpkKG1AHgi",
        "outputId": "e18c2c35-85fb-4998-a0b9-96bb4cd75674"
      },
      "execution_count": null,
      "outputs": [
        {
          "output_type": "execute_result",
          "data": {
            "text/plain": [
              "   Province/State Country/Region  Confirmed  Deaths  Recovered Last_Update\n",
              "0             NaN         Turkey          1       0          0   3/11/2020\n",
              "1             NaN         Turkey          1       0          0   3/12/2020\n",
              "2             NaN         Turkey          5       0          0   3/13/2020\n",
              "3             NaN         Turkey          5       0          0   3/14/2020\n",
              "4             NaN         Turkey         18       0          0   3/15/2020"
            ],
            "text/html": [
              "\n",
              "  <div id=\"df-d20e3c0b-dcac-40d7-9491-89c5c77e77ea\">\n",
              "    <div class=\"colab-df-container\">\n",
              "      <div>\n",
              "<style scoped>\n",
              "    .dataframe tbody tr th:only-of-type {\n",
              "        vertical-align: middle;\n",
              "    }\n",
              "\n",
              "    .dataframe tbody tr th {\n",
              "        vertical-align: top;\n",
              "    }\n",
              "\n",
              "    .dataframe thead th {\n",
              "        text-align: right;\n",
              "    }\n",
              "</style>\n",
              "<table border=\"1\" class=\"dataframe\">\n",
              "  <thead>\n",
              "    <tr style=\"text-align: right;\">\n",
              "      <th></th>\n",
              "      <th>Province/State</th>\n",
              "      <th>Country/Region</th>\n",
              "      <th>Confirmed</th>\n",
              "      <th>Deaths</th>\n",
              "      <th>Recovered</th>\n",
              "      <th>Last_Update</th>\n",
              "    </tr>\n",
              "  </thead>\n",
              "  <tbody>\n",
              "    <tr>\n",
              "      <th>0</th>\n",
              "      <td>NaN</td>\n",
              "      <td>Turkey</td>\n",
              "      <td>1</td>\n",
              "      <td>0</td>\n",
              "      <td>0</td>\n",
              "      <td>3/11/2020</td>\n",
              "    </tr>\n",
              "    <tr>\n",
              "      <th>1</th>\n",
              "      <td>NaN</td>\n",
              "      <td>Turkey</td>\n",
              "      <td>1</td>\n",
              "      <td>0</td>\n",
              "      <td>0</td>\n",
              "      <td>3/12/2020</td>\n",
              "    </tr>\n",
              "    <tr>\n",
              "      <th>2</th>\n",
              "      <td>NaN</td>\n",
              "      <td>Turkey</td>\n",
              "      <td>5</td>\n",
              "      <td>0</td>\n",
              "      <td>0</td>\n",
              "      <td>3/13/2020</td>\n",
              "    </tr>\n",
              "    <tr>\n",
              "      <th>3</th>\n",
              "      <td>NaN</td>\n",
              "      <td>Turkey</td>\n",
              "      <td>5</td>\n",
              "      <td>0</td>\n",
              "      <td>0</td>\n",
              "      <td>3/14/2020</td>\n",
              "    </tr>\n",
              "    <tr>\n",
              "      <th>4</th>\n",
              "      <td>NaN</td>\n",
              "      <td>Turkey</td>\n",
              "      <td>18</td>\n",
              "      <td>0</td>\n",
              "      <td>0</td>\n",
              "      <td>3/15/2020</td>\n",
              "    </tr>\n",
              "  </tbody>\n",
              "</table>\n",
              "</div>\n",
              "      <button class=\"colab-df-convert\" onclick=\"convertToInteractive('df-d20e3c0b-dcac-40d7-9491-89c5c77e77ea')\"\n",
              "              title=\"Convert this dataframe to an interactive table.\"\n",
              "              style=\"display:none;\">\n",
              "        \n",
              "  <svg xmlns=\"http://www.w3.org/2000/svg\" height=\"24px\"viewBox=\"0 0 24 24\"\n",
              "       width=\"24px\">\n",
              "    <path d=\"M0 0h24v24H0V0z\" fill=\"none\"/>\n",
              "    <path d=\"M18.56 5.44l.94 2.06.94-2.06 2.06-.94-2.06-.94-.94-2.06-.94 2.06-2.06.94zm-11 1L8.5 8.5l.94-2.06 2.06-.94-2.06-.94L8.5 2.5l-.94 2.06-2.06.94zm10 10l.94 2.06.94-2.06 2.06-.94-2.06-.94-.94-2.06-.94 2.06-2.06.94z\"/><path d=\"M17.41 7.96l-1.37-1.37c-.4-.4-.92-.59-1.43-.59-.52 0-1.04.2-1.43.59L10.3 9.45l-7.72 7.72c-.78.78-.78 2.05 0 2.83L4 21.41c.39.39.9.59 1.41.59.51 0 1.02-.2 1.41-.59l7.78-7.78 2.81-2.81c.8-.78.8-2.07 0-2.86zM5.41 20L4 18.59l7.72-7.72 1.47 1.35L5.41 20z\"/>\n",
              "  </svg>\n",
              "      </button>\n",
              "      \n",
              "  <style>\n",
              "    .colab-df-container {\n",
              "      display:flex;\n",
              "      flex-wrap:wrap;\n",
              "      gap: 12px;\n",
              "    }\n",
              "\n",
              "    .colab-df-convert {\n",
              "      background-color: #E8F0FE;\n",
              "      border: none;\n",
              "      border-radius: 50%;\n",
              "      cursor: pointer;\n",
              "      display: none;\n",
              "      fill: #1967D2;\n",
              "      height: 32px;\n",
              "      padding: 0 0 0 0;\n",
              "      width: 32px;\n",
              "    }\n",
              "\n",
              "    .colab-df-convert:hover {\n",
              "      background-color: #E2EBFA;\n",
              "      box-shadow: 0px 1px 2px rgba(60, 64, 67, 0.3), 0px 1px 3px 1px rgba(60, 64, 67, 0.15);\n",
              "      fill: #174EA6;\n",
              "    }\n",
              "\n",
              "    [theme=dark] .colab-df-convert {\n",
              "      background-color: #3B4455;\n",
              "      fill: #D2E3FC;\n",
              "    }\n",
              "\n",
              "    [theme=dark] .colab-df-convert:hover {\n",
              "      background-color: #434B5C;\n",
              "      box-shadow: 0px 1px 3px 1px rgba(0, 0, 0, 0.15);\n",
              "      filter: drop-shadow(0px 1px 2px rgba(0, 0, 0, 0.3));\n",
              "      fill: #FFFFFF;\n",
              "    }\n",
              "  </style>\n",
              "\n",
              "      <script>\n",
              "        const buttonEl =\n",
              "          document.querySelector('#df-d20e3c0b-dcac-40d7-9491-89c5c77e77ea button.colab-df-convert');\n",
              "        buttonEl.style.display =\n",
              "          google.colab.kernel.accessAllowed ? 'block' : 'none';\n",
              "\n",
              "        async function convertToInteractive(key) {\n",
              "          const element = document.querySelector('#df-d20e3c0b-dcac-40d7-9491-89c5c77e77ea');\n",
              "          const dataTable =\n",
              "            await google.colab.kernel.invokeFunction('convertToInteractive',\n",
              "                                                     [key], {});\n",
              "          if (!dataTable) return;\n",
              "\n",
              "          const docLinkHtml = 'Like what you see? Visit the ' +\n",
              "            '<a target=\"_blank\" href=https://colab.research.google.com/notebooks/data_table.ipynb>data table notebook</a>'\n",
              "            + ' to learn more about interactive tables.';\n",
              "          element.innerHTML = '';\n",
              "          dataTable['output_type'] = 'display_data';\n",
              "          await google.colab.output.renderOutput(dataTable, element);\n",
              "          const docLink = document.createElement('div');\n",
              "          docLink.innerHTML = docLinkHtml;\n",
              "          element.appendChild(docLink);\n",
              "        }\n",
              "      </script>\n",
              "    </div>\n",
              "  </div>\n",
              "  "
            ]
          },
          "metadata": {},
          "execution_count": 4
        }
      ]
    },
    {
      "cell_type": "markdown",
      "source": [
        "The following code represents the dataframe without Provinces/state column"
      ],
      "metadata": {
        "id": "XKRAX6mRB934"
      }
    },
    {
      "cell_type": "code",
      "source": [
        "del df[\"Province/State\"]\n",
        "print(df)"
      ],
      "metadata": {
        "colab": {
          "base_uri": "https://localhost:8080/"
        },
        "id": "2_oJhJ5yBc8d",
        "outputId": "a26ab6c2-a87a-48e7-b757-e014536c7270"
      },
      "execution_count": null,
      "outputs": [
        {
          "output_type": "stream",
          "name": "stdout",
          "text": [
            "    Country/Region  Confirmed  Deaths  Recovered Last_Update\n",
            "0           Turkey          1       0          0   3/11/2020\n",
            "1           Turkey          1       0          0   3/12/2020\n",
            "2           Turkey          5       0          0   3/13/2020\n",
            "3           Turkey          5       0          0   3/14/2020\n",
            "4           Turkey         18       0          0   3/15/2020\n",
            "..             ...        ...     ...        ...         ...\n",
            "227         Turkey     359784    9727     313093  10/24/2020\n",
            "228         Turkey     361801    9799     314390  10/25/2020\n",
            "229         Turkey     363999    9874     316008  10/26/2020\n",
            "230         Turkey     366208    9950     317519  10/27/2020\n",
            "231         Turkey     368513   10027     319181  10/28/2020\n",
            "\n",
            "[232 rows x 5 columns]\n"
          ]
        }
      ]
    },
    {
      "cell_type": "markdown",
      "source": [
        "from now we should count the missing values inside the other columns and handle them aswell later confirmed cases, deaths and recovered variables will be represented with respect to time, however since there are 232 rows which means 232 days we dont have a large dataset thus it is better for us to prepare estimation for NaN values such taking average."
      ],
      "metadata": {
        "id": "tQrR1vwRCKYh"
      }
    },
    {
      "cell_type": "code",
      "source": [
        "row = len(df)\n",
        "col = len(df.columns)\n",
        "sum = 0\n",
        "\n",
        "for elem in range(col):\n",
        "  sum=df.loc[[elem]].isna().sum().sum()\n",
        "\n",
        "\n",
        "print(sum)"
      ],
      "metadata": {
        "colab": {
          "base_uri": "https://localhost:8080/"
        },
        "id": "Y_UHQJvlCRal",
        "outputId": "6b29508b-8cc4-4c00-f8d3-14001613d052"
      },
      "execution_count": null,
      "outputs": [
        {
          "output_type": "stream",
          "name": "stdout",
          "text": [
            "0\n"
          ]
        }
      ]
    },
    {
      "cell_type": "markdown",
      "source": [
        "this means that there are 0 missing values in the entire dataframe so this data is ready to represent with respect to time first we should represent the confirmed case with respect to time then deaths then recovered cases. Now we can visualize the data, However sicne our date's type is Object, we need to turn it into integer first."
      ],
      "metadata": {
        "id": "P33lVND5F79I"
      }
    },
    {
      "cell_type": "markdown",
      "source": [
        "The graph below shows us the confirmed cases of Covid-19 in Turkey between 3/11/2020 and 9/27/2020 as a line graph."
      ],
      "metadata": {
        "id": "zNKRkj0dyrdB"
      }
    },
    {
      "cell_type": "code",
      "source": [
        "df.plot(x=\"Last_Update\",y=\"Confirmed\",kind = \"line\")"
      ],
      "metadata": {
        "colab": {
          "base_uri": "https://localhost:8080/",
          "height": 297
        },
        "id": "shqUW-VkPrXG",
        "outputId": "547fe80b-ac12-44e0-b80c-0fba3990d6c1"
      },
      "execution_count": null,
      "outputs": [
        {
          "output_type": "execute_result",
          "data": {
            "text/plain": [
              "<matplotlib.axes._subplots.AxesSubplot at 0x7fe0f7ef1d10>"
            ]
          },
          "metadata": {},
          "execution_count": 10
        },
        {
          "output_type": "display_data",
          "data": {
            "text/plain": [
              "<Figure size 432x288 with 1 Axes>"
            ],
            "image/png": "[encoded data removed]"
          },
          "metadata": {
            "needs_background": "light"
          }
        }
      ]
    },
    {
      "cell_type": "markdown",
      "source": [
        "The graph below shows us the deaths in Turkey which were caused by Covid-19 between 3/11/2020 and 9/27/2020 as a line graph."
      ],
      "metadata": {
        "id": "aW5boEVfzC1_"
      }
    },
    {
      "cell_type": "code",
      "source": [
        "df.plot(x=\"Last_Update\",y=\"Deaths\",kind = \"line\")"
      ],
      "metadata": {
        "colab": {
          "base_uri": "https://localhost:8080/",
          "height": 297
        },
        "id": "Mm2Ai-f-VPtK",
        "outputId": "a0df613b-479e-481a-dbaa-8dfc997598ee"
      },
      "execution_count": null,
      "outputs": [
        {
          "output_type": "execute_result",
          "data": {
            "text/plain": [
              "<matplotlib.axes._subplots.AxesSubplot at 0x7fe0f7ea5850>"
            ]
          },
          "metadata": {},
          "execution_count": 11
        },
        {
          "output_type": "display_data",
          "data": {
            "text/plain": [
              "<Figure size 432x288 with 1 Axes>"
            ],
            "image/png": "[encoded data removed]"
          },
          "metadata": {
            "needs_background": "light"
          }
        }
      ]
    },
    {
      "cell_type": "markdown",
      "source": [
        "The graph below shows us the recovered patiens from Covid-19 in Turkey between 3/11/2020 and 9/27/2020 as a line graph."
      ],
      "metadata": {
        "id": "ndTmfMjXzVxU"
      }
    },
    {
      "cell_type": "code",
      "source": [
        "df.plot(x=\"Last_Update\",y=\"Recovered\",kind = \"line\")"
      ],
      "metadata": {
        "colab": {
          "base_uri": "https://localhost:8080/",
          "height": 297
        },
        "id": "qWBXTCVlVYJU",
        "outputId": "ea89a553-b3f7-420d-df6c-f9ca9c93090c"
      },
      "execution_count": null,
      "outputs": [
        {
          "output_type": "execute_result",
          "data": {
            "text/plain": [
              "<matplotlib.axes._subplots.AxesSubplot at 0x7fe0f7df3d90>"
            ]
          },
          "metadata": {},
          "execution_count": 12
        },
        {
          "output_type": "display_data",
          "data": {
            "text/plain": [
              "<Figure size 432x288 with 1 Axes>"
            ],
            "image/png": "[encoded data removed]"
          },
          "metadata": {
            "needs_background": "light"
          }
        }
      ]
    },
    {
      "cell_type": "markdown",
      "source": [
        "# Analysis of Graphs\n",
        "\n",
        "As one can observe all graphs act similarly to each other. To begin with in all parameters the graphs starts with a straight line that indicates there were no such rapid increase in all of the 3 parameters, the reason might be the precautions that the goverment took such as 2 week long curfew and social distancing rule, however after a period of time which is approximately one month later we see a logarithmic increase in the all of the graph. This is due to the fact that one infected person spreads this disease to more than 1 people so the graph grows logartihmicly.logarithmic increase in confirmed cases since both recovered numbers and death numbers are dependedt on the way the confirmed variable behaves. Since it can take approximately 2 weeks for a case to either recover or die, there is a delay between confirmed cases and recovered and deaths numbers in terms of behaviour of graph, however they all behave similarly. Another thing is that we see a that this logarithmic increase ends and all of the 3 parameters(i.e Confirmed, Recovered, Deaths) follows an increasing linear trend. This might happen due to fact that the ones who caught the disease froms a resistance and when a contact happens, they do not get sick and hence slow down the spread rate of the Covid-19."
      ],
      "metadata": {
        "id": "WZ14GbfEVdJW"
      }
    },
    {
      "cell_type": "markdown",
      "source": [
        ""
      ],
      "metadata": {
        "id": "MEh0aTKr9l8R"
      }
    },
    {
      "cell_type": "markdown",
      "source": [
        "# Visualization of each WHO region\n",
        "\n",
        "below there will be the visualization of each region or in other words country of the world and their death counts on covid."
      ],
      "metadata": {
        "id": "DO1F9uHGAKLi"
      }
    },
    {
      "cell_type": "code",
      "source": [
        "WorldfName = \"country_wise_latest.csv\"\n",
        "Wdf = pd.read_csv(join(path_prefix,WorldfName))\n",
        "Wdf.dtypes"
      ],
      "metadata": {
        "colab": {
          "base_uri": "https://localhost:8080/"
        },
        "id": "tN7JfX5DYii6",
        "outputId": "6b3a7c94-fcb6-4b1f-a2c4-84487e6d9bcd"
      },
      "execution_count": null,
      "outputs": [
        {
          "output_type": "execute_result",
          "data": {
            "text/plain": [
              "Country/Region             object\n",
              "Confirmed                   int64\n",
              "Deaths                      int64\n",
              "Recovered                   int64\n",
              "Active                      int64\n",
              "New cases                   int64\n",
              "New deaths                  int64\n",
              "New recovered               int64\n",
              "Deaths / 100 Cases        float64\n",
              "Recovered / 100 Cases     float64\n",
              "Deaths / 100 Recovered    float64\n",
              "Confirmed last week         int64\n",
              "1 week change               int64\n",
              "1 week % increase         float64\n",
              "WHO Region                 object\n",
              "dtype: object"
            ]
          },
          "metadata": {},
          "execution_count": 3
        }
      ]
    },
    {
      "cell_type": "code",
      "source": [
        "Wdf.head()"
      ],
      "metadata": {
        "colab": {
          "base_uri": "https://localhost:8080/",
          "height": 285
        },
        "id": "YF_wcsiyZaXE",
        "outputId": "591dbfb5-e277-4120-fa9c-cc0958f1a7fa"
      },
      "execution_count": null,
      "outputs": [
        {
          "output_type": "execute_result",
          "data": {
            "text/plain": [
              "  Country/Region  Confirmed  Deaths  Recovered  Active  New cases  New deaths  \\\n",
              "0    Afghanistan      36263    1269      25198    9796        106          10   \n",
              "1        Albania       4880     144       2745    1991        117           6   \n",
              "2        Algeria      27973    1163      18837    7973        616           8   \n",
              "3        Andorra        907      52        803      52         10           0   \n",
              "4         Angola        950      41        242     667         18           1   \n",
              "\n",
              "   New recovered  Deaths / 100 Cases  Recovered / 100 Cases  \\\n",
              "0             18                3.50                  69.49   \n",
              "1             63                2.95                  56.25   \n",
              "2            749                4.16                  67.34   \n",
              "3              0                5.73                  88.53   \n",
              "4              0                4.32                  25.47   \n",
              "\n",
              "   Deaths / 100 Recovered  Confirmed last week  1 week change  \\\n",
              "0                    5.04                35526            737   \n",
              "1                    5.25                 4171            709   \n",
              "2                    6.17                23691           4282   \n",
              "3                    6.48                  884             23   \n",
              "4                   16.94                  749            201   \n",
              "\n",
              "   1 week % increase             WHO Region  \n",
              "0               2.07  Eastern Mediterranean  \n",
              "1              17.00                 Europe  \n",
              "2              18.07                 Africa  \n",
              "3               2.60                 Europe  \n",
              "4              26.84                 Africa  "
            ],
            "text/html": [
              "\n",
              "  <div id=\"df-d7a59c69-51cf-4d5f-ad5a-251b0eedfbb3\">\n",
              "    <div class=\"colab-df-container\">\n",
              "      <div>\n",
              "<style scoped>\n",
              "    .dataframe tbody tr th:only-of-type {\n",
              "        vertical-align: middle;\n",
              "    }\n",
              "\n",
              "    .dataframe tbody tr th {\n",
              "        vertical-align: top;\n",
              "    }\n",
              "\n",
              "    .dataframe thead th {\n",
              "        text-align: right;\n",
              "    }\n",
              "</style>\n",
              "<table border=\"1\" class=\"dataframe\">\n",
              "  <thead>\n",
              "    <tr style=\"text-align: right;\">\n",
              "      <th></th>\n",
              "      <th>Country/Region</th>\n",
              "      <th>Confirmed</th>\n",
              "      <th>Deaths</th>\n",
              "      <th>Recovered</th>\n",
              "      <th>Active</th>\n",
              "      <th>New cases</th>\n",
              "      <th>New deaths</th>\n",
              "      <th>New recovered</th>\n",
              "      <th>Deaths / 100 Cases</th>\n",
              "      <th>Recovered / 100 Cases</th>\n",
              "      <th>Deaths / 100 Recovered</th>\n",
              "      <th>Confirmed last week</th>\n",
              "      <th>1 week change</th>\n",
              "      <th>1 week % increase</th>\n",
              "      <th>WHO Region</th>\n",
              "    </tr>\n",
              "  </thead>\n",
              "  <tbody>\n",
              "    <tr>\n",
              "      <th>0</th>\n",
              "      <td>Afghanistan</td>\n",
              "      <td>36263</td>\n",
              "      <td>1269</td>\n",
              "      <td>25198</td>\n",
              "      <td>9796</td>\n",
              "      <td>106</td>\n",
              "      <td>10</td>\n",
              "      <td>18</td>\n",
              "      <td>3.50</td>\n",
              "      <td>69.49</td>\n",
              "      <td>5.04</td>\n",
              "      <td>35526</td>\n",
              "      <td>737</td>\n",
              "      <td>2.07</td>\n",
              "      <td>Eastern Mediterranean</td>\n",
              "    </tr>\n",
              "    <tr>\n",
              "      <th>1</th>\n",
              "      <td>Albania</td>\n",
              "      <td>4880</td>\n",
              "      <td>144</td>\n",
              "      <td>2745</td>\n",
              "      <td>1991</td>\n",
              "      <td>117</td>\n",
              "      <td>6</td>\n",
              "      <td>63</td>\n",
              "      <td>2.95</td>\n",
              "      <td>56.25</td>\n",
              "      <td>5.25</td>\n",
              "      <td>4171</td>\n",
              "      <td>709</td>\n",
              "      <td>17.00</td>\n",
              "      <td>Europe</td>\n",
              "    </tr>\n",
              "    <tr>\n",
              "      <th>2</th>\n",
              "      <td>Algeria</td>\n",
              "      <td>27973</td>\n",
              "      <td>1163</td>\n",
              "      <td>18837</td>\n",
              "      <td>7973</td>\n",
              "      <td>616</td>\n",
              "      <td>8</td>\n",
              "      <td>749</td>\n",
              "      <td>4.16</td>\n",
              "      <td>67.34</td>\n",
              "      <td>6.17</td>\n",
              "      <td>23691</td>\n",
              "      <td>4282</td>\n",
              "      <td>18.07</td>\n",
              "      <td>Africa</td>\n",
              "    </tr>\n",
              "    <tr>\n",
              "      <th>3</th>\n",
              "      <td>Andorra</td>\n",
              "      <td>907</td>\n",
              "      <td>52</td>\n",
              "      <td>803</td>\n",
              "      <td>52</td>\n",
              "      <td>10</td>\n",
              "      <td>0</td>\n",
              "      <td>0</td>\n",
              "      <td>5.73</td>\n",
              "      <td>88.53</td>\n",
              "      <td>6.48</td>\n",
              "      <td>884</td>\n",
              "      <td>23</td>\n",
              "      <td>2.60</td>\n",
              "      <td>Europe</td>\n",
              "    </tr>\n",
              "    <tr>\n",
              "      <th>4</th>\n",
              "      <td>Angola</td>\n",
              "      <td>950</td>\n",
              "      <td>41</td>\n",
              "      <td>242</td>\n",
              "      <td>667</td>\n",
              "      <td>18</td>\n",
              "      <td>1</td>\n",
              "      <td>0</td>\n",
              "      <td>4.32</td>\n",
              "      <td>25.47</td>\n",
              "      <td>16.94</td>\n",
              "      <td>749</td>\n",
              "      <td>201</td>\n",
              "      <td>26.84</td>\n",
              "      <td>Africa</td>\n",
              "    </tr>\n",
              "  </tbody>\n",
              "</table>\n",
              "</div>\n",
              "      <button class=\"colab-df-convert\" onclick=\"convertToInteractive('df-d7a59c69-51cf-4d5f-ad5a-251b0eedfbb3')\"\n",
              "              title=\"Convert this dataframe to an interactive table.\"\n",
              "              style=\"display:none;\">\n",
              "        \n",
              "  <svg xmlns=\"http://www.w3.org/2000/svg\" height=\"24px\"viewBox=\"0 0 24 24\"\n",
              "       width=\"24px\">\n",
              "    <path d=\"M0 0h24v24H0V0z\" fill=\"none\"/>\n",
              "    <path d=\"M18.56 5.44l.94 2.06.94-2.06 2.06-.94-2.06-.94-.94-2.06-.94 2.06-2.06.94zm-11 1L8.5 8.5l.94-2.06 2.06-.94-2.06-.94L8.5 2.5l-.94 2.06-2.06.94zm10 10l.94 2.06.94-2.06 2.06-.94-2.06-.94-.94-2.06-.94 2.06-2.06.94z\"/><path d=\"M17.41 7.96l-1.37-1.37c-.4-.4-.92-.59-1.43-.59-.52 0-1.04.2-1.43.59L10.3 9.45l-7.72 7.72c-.78.78-.78 2.05 0 2.83L4 21.41c.39.39.9.59 1.41.59.51 0 1.02-.2 1.41-.59l7.78-7.78 2.81-2.81c.8-.78.8-2.07 0-2.86zM5.41 20L4 18.59l7.72-7.72 1.47 1.35L5.41 20z\"/>\n",
              "  </svg>\n",
              "      </button>\n",
              "      \n",
              "  <style>\n",
              "    .colab-df-container {\n",
              "      display:flex;\n",
              "      flex-wrap:wrap;\n",
              "      gap: 12px;\n",
              "    }\n",
              "\n",
              "    .colab-df-convert {\n",
              "      background-color: #E8F0FE;\n",
              "      border: none;\n",
              "      border-radius: 50%;\n",
              "      cursor: pointer;\n",
              "      display: none;\n",
              "      fill: #1967D2;\n",
              "      height: 32px;\n",
              "      padding: 0 0 0 0;\n",
              "      width: 32px;\n",
              "    }\n",
              "\n",
              "    .colab-df-convert:hover {\n",
              "      background-color: #E2EBFA;\n",
              "      box-shadow: 0px 1px 2px rgba(60, 64, 67, 0.3), 0px 1px 3px 1px rgba(60, 64, 67, 0.15);\n",
              "      fill: #174EA6;\n",
              "    }\n",
              "\n",
              "    [theme=dark] .colab-df-convert {\n",
              "      background-color: #3B4455;\n",
              "      fill: #D2E3FC;\n",
              "    }\n",
              "\n",
              "    [theme=dark] .colab-df-convert:hover {\n",
              "      background-color: #434B5C;\n",
              "      box-shadow: 0px 1px 3px 1px rgba(0, 0, 0, 0.15);\n",
              "      filter: drop-shadow(0px 1px 2px rgba(0, 0, 0, 0.3));\n",
              "      fill: #FFFFFF;\n",
              "    }\n",
              "  </style>\n",
              "\n",
              "      <script>\n",
              "        const buttonEl =\n",
              "          document.querySelector('#df-d7a59c69-51cf-4d5f-ad5a-251b0eedfbb3 button.colab-df-convert');\n",
              "        buttonEl.style.display =\n",
              "          google.colab.kernel.accessAllowed ? 'block' : 'none';\n",
              "\n",
              "        async function convertToInteractive(key) {\n",
              "          const element = document.querySelector('#df-d7a59c69-51cf-4d5f-ad5a-251b0eedfbb3');\n",
              "          const dataTable =\n",
              "            await google.colab.kernel.invokeFunction('convertToInteractive',\n",
              "                                                     [key], {});\n",
              "          if (!dataTable) return;\n",
              "\n",
              "          const docLinkHtml = 'Like what you see? Visit the ' +\n",
              "            '<a target=\"_blank\" href=https://colab.research.google.com/notebooks/data_table.ipynb>data table notebook</a>'\n",
              "            + ' to learn more about interactive tables.';\n",
              "          element.innerHTML = '';\n",
              "          dataTable['output_type'] = 'display_data';\n",
              "          await google.colab.output.renderOutput(dataTable, element);\n",
              "          const docLink = document.createElement('div');\n",
              "          docLink.innerHTML = docLinkHtml;\n",
              "          element.appendChild(docLink);\n",
              "        }\n",
              "      </script>\n",
              "    </div>\n",
              "  </div>\n",
              "  "
            ]
          },
          "metadata": {},
          "execution_count": 4
        }
      ]
    },
    {
      "cell_type": "markdown",
      "source": [
        "As one can see there are so many unwanted values, we are only interested in Deaths, recovered and active cases so we have to remove other columns."
      ],
      "metadata": {
        "id": "WiDEbf5vkEfV"
      }
    },
    {
      "cell_type": "code",
      "source": [
        "del Wdf[\"New cases\"]\n",
        "del Wdf[\"New deaths\"]\n",
        "del Wdf[\"New recovered\"]\n",
        "del Wdf[\"Deaths / 100 Cases\"]\n",
        "del Wdf[\"Recovered / 100 Cases\"]\n",
        "del Wdf[\"Deaths / 100 Recovered\"]\n",
        "del Wdf[\"Confirmed last week\"]\n",
        "del Wdf[\"1 week change\"]\n",
        "del Wdf[\"1 week % increase\"]"
      ],
      "metadata": {
        "id": "H_Nfv3WrkRgB"
      },
      "execution_count": null,
      "outputs": []
    },
    {
      "cell_type": "code",
      "source": [
        "print(Wdf)"
      ],
      "metadata": {
        "colab": {
          "base_uri": "https://localhost:8080/"
        },
        "id": "R7ZgEwvPlSN2",
        "outputId": "a7ecaddb-ca5d-4c56-dc4f-fbe009bc4308"
      },
      "execution_count": null,
      "outputs": [
        {
          "output_type": "stream",
          "name": "stdout",
          "text": [
            "         Country/Region  Confirmed  Deaths  Recovered  Active  \\\n",
            "0           Afghanistan      36263    1269      25198    9796   \n",
            "1               Albania       4880     144       2745    1991   \n",
            "2               Algeria      27973    1163      18837    7973   \n",
            "3               Andorra        907      52        803      52   \n",
            "4                Angola        950      41        242     667   \n",
            "..                  ...        ...     ...        ...     ...   \n",
            "182  West Bank and Gaza      10621      78       3752    6791   \n",
            "183      Western Sahara         10       1          8       1   \n",
            "184               Yemen       1691     483        833     375   \n",
            "185              Zambia       4552     140       2815    1597   \n",
            "186            Zimbabwe       2704      36        542    2126   \n",
            "\n",
            "                WHO Region  \n",
            "0    Eastern Mediterranean  \n",
            "1                   Europe  \n",
            "2                   Africa  \n",
            "3                   Europe  \n",
            "4                   Africa  \n",
            "..                     ...  \n",
            "182  Eastern Mediterranean  \n",
            "183                 Africa  \n",
            "184  Eastern Mediterranean  \n",
            "185                 Africa  \n",
            "186                 Africa  \n",
            "\n",
            "[187 rows x 6 columns]\n"
          ]
        }
      ]
    },
    {
      "cell_type": "markdown",
      "source": [
        "now we have a dataframe which shows only the deaths, recovered and Active counts. Since our dataset has so many categories which is all those different countries, Scatter plot is the type of graph we should use."
      ],
      "metadata": {
        "id": "FstFMgQElUse"
      }
    },
    {
      "cell_type": "code",
      "source": [
        "row = len(Wdf)\n",
        "col = len(Wdf.columns)\n",
        "sum = 0\n",
        "\n",
        "for elem in range(col):\n",
        "  sum=Wdf.loc[[elem]].isna().sum().sum()\n",
        "\n",
        "\n",
        "print(sum)"
      ],
      "metadata": {
        "colab": {
          "base_uri": "https://localhost:8080/"
        },
        "id": "bxOQq6TnocfY",
        "outputId": "4dce0277-cded-4bdf-bea0-3e54cb7e73dc"
      },
      "execution_count": null,
      "outputs": [
        {
          "output_type": "stream",
          "name": "stdout",
          "text": [
            "0\n"
          ]
        }
      ]
    },
    {
      "cell_type": "markdown",
      "source": [
        "The whole dataset again has 0 missing values so we can visualize the dataset."
      ],
      "metadata": {
        "id": "ErXdsvaJooIL"
      }
    },
    {
      "cell_type": "markdown",
      "source": [
        "# Finding the total cases for each WHO region respectively.\n",
        "\n",
        "\n",
        "\n",
        "\n",
        "\n",
        "note: Seperate each region and visualize such as europe asia americas etc etc..."
      ],
      "metadata": {
        "id": "IVL6Ddiso_n9"
      }
    },
    {
      "cell_type": "code",
      "source": [
        "#finding all the deaths wrto region\n",
        "dfRegions = Wdf\n",
        "dfRegions= dfRegions.groupby([\"WHO Region\"]).sum()\n",
        "dfRegions.insert(4,\"WHO Region\",[\"Africa\", \"Americas\",\"Eastern Mediterreanean\",\"Europe\",\"South-East Asia\",\"Western Pacific\"],True)\n",
        "\n",
        "print(dfRegions)"
      ],
      "metadata": {
        "colab": {
          "base_uri": "https://localhost:8080/"
        },
        "id": "2gZ9IrFPZmL8",
        "outputId": "f05137f6-ca9f-41cd-808f-ab384e8a421d"
      },
      "execution_count": null,
      "outputs": [
        {
          "output_type": "stream",
          "name": "stdout",
          "text": [
            "                       Confirmed  Deaths  Recovered   Active  \\\n",
            "WHO Region                                                     \n",
            "Africa                    723207   12223     440645   270339   \n",
            "Americas                 8839286  342732    4468616  4027938   \n",
            "Eastern Mediterranean    1490744   38339    1201400   251005   \n",
            "Europe                   3299523  211144    1993723  1094656   \n",
            "South-East Asia          1835297   41349    1156933   637015   \n",
            "Western Pacific           292428    8249     206770    77409   \n",
            "\n",
            "                                   WHO Region  \n",
            "WHO Region                                     \n",
            "Africa                                 Africa  \n",
            "Americas                             Americas  \n",
            "Eastern Mediterranean  Eastern Mediterreanean  \n",
            "Europe                                 Europe  \n",
            "South-East Asia               South-East Asia  \n",
            "Western Pacific               Western Pacific  \n"
          ]
        }
      ]
    },
    {
      "cell_type": "markdown",
      "source": [
        "Since we grouped by WHO regions we had to add a colum that specifies which numbers belong to which region so we added a colum that consists of regions."
      ],
      "metadata": {
        "id": "yhGgSz6l0jPQ"
      }
    },
    {
      "cell_type": "markdown",
      "source": [
        "with the copy dataframe dfRegions we have total deaths, recovered and active cases for all of the WHO regions, now we will visualize this. Since we have a small category set and we will make comparisons with such categories its logical to use bar charts to represent the relations."
      ],
      "metadata": {
        "id": "3nVFlmvD2kwl"
      }
    },
    {
      "cell_type": "markdown",
      "source": [
        "# Visualization of Confirmed number of cases with respect to each WHO Region."
      ],
      "metadata": {
        "id": "7f0Xq_sE5HUq"
      }
    },
    {
      "cell_type": "code",
      "source": [
        "ax = dfRegions.plot.bar(x=\"WHO Region\",y = \"Confirmed\")"
      ],
      "metadata": {
        "colab": {
          "base_uri": "https://localhost:8080/",
          "height": 401
        },
        "id": "C1GSOG9527bE",
        "outputId": "2c9a536b-507c-41f9-abeb-2a91f46fb90c"
      },
      "execution_count": null,
      "outputs": [
        {
          "output_type": "display_data",
          "data": {
            "text/plain": [
              "<Figure size 432x288 with 1 Axes>"
            ],
            "image/png": "[encoded data removed]"
          },
          "metadata": {
            "needs_background": "light"
          }
        }
      ]
    },
    {
      "cell_type": "markdown",
      "source": [
        "This chart shows the distribution of confirmed patients by WHO regions. The number of confirmed patients also includes recovers. So this dataset represents the cumulative total of all people who have been sick so far in WHO regions. According to this graph, most people in the Americas have had covid. Europe comes second, followed by South-East-Asia. The lowest number of cases was found in the Western Pacific region."
      ],
      "metadata": {
        "id": "oOcvdlJX4wcP"
      }
    },
    {
      "cell_type": "markdown",
      "source": [
        "# Visualization of Death counts with respect to WHO Regions"
      ],
      "metadata": {
        "id": "nMeWyuTO5rcB"
      }
    },
    {
      "cell_type": "code",
      "source": [
        "ax = dfRegions.plot.bar(x=\"WHO Region\",y = \"Deaths\")"
      ],
      "metadata": {
        "colab": {
          "base_uri": "https://localhost:8080/",
          "height": 390
        },
        "id": "DoBvImAw5g06",
        "outputId": "36fb937a-3af7-4109-8531-4ae033e724c9"
      },
      "execution_count": null,
      "outputs": [
        {
          "output_type": "display_data",
          "data": {
            "text/plain": [
              "<Figure size 432x288 with 1 Axes>"
            ],
            "image/png": "[encoded data removed]"
          },
          "metadata": {
            "needs_background": "light"
          }
        }
      ]
    },
    {
      "cell_type": "markdown",
      "source": [
        "In this dataset, mortality rates of WHO regions of death were examined.The highest death rate seems to be in the Americas. According to this distribution, the second highest death rate is in Europe. The lowest mortality rate seems to be in the Western Pacific region."
      ],
      "metadata": {
        "id": "UAGaOWLJ0vrT"
      }
    },
    {
      "cell_type": "markdown",
      "source": [
        "# Visualization of recovered number of cases with respect to each WHO Region"
      ],
      "metadata": {
        "id": "S22SV81k5wzt"
      }
    },
    {
      "cell_type": "code",
      "source": [
        "ax = dfRegions.plot.bar(x=\"WHO Region\",y = \"Recovered\")"
      ],
      "metadata": {
        "colab": {
          "base_uri": "https://localhost:8080/",
          "height": 401
        },
        "id": "qyI0zxzJ59xf",
        "outputId": "a22a19d2-f3f2-489c-a224-39cf98586f36"
      },
      "execution_count": null,
      "outputs": [
        {
          "output_type": "display_data",
          "data": {
            "text/plain": [
              "<Figure size 432x288 with 1 Axes>"
            ],
            "image/png": "[encoded data removed]"
          },
          "metadata": {
            "needs_background": "light"
          }
        }
      ]
    },
    {
      "cell_type": "markdown",
      "source": [
        "This distribution gives us information about recovery rates. The highest rate of patient recovery in Covid cases is in the Americas. The second highest number of recovered patients is in Europe. The least recovery rate is in the Western Pacific region."
      ],
      "metadata": {
        "id": "NVQe-g7m2eAU"
      }
    },
    {
      "cell_type": "markdown",
      "source": [
        "# Visualization of Active cases with respect to each WHO Region"
      ],
      "metadata": {
        "id": "zf51R8E66Bi2"
      }
    },
    {
      "cell_type": "code",
      "source": [
        "ax = dfRegions.plot.bar(x=\"WHO Region\",y = \"Active\")"
      ],
      "metadata": {
        "colab": {
          "base_uri": "https://localhost:8080/",
          "height": 401
        },
        "id": "t1F48XcS6G5d",
        "outputId": "15a2afcf-acb4-47dd-dbda-8cd211722212"
      },
      "execution_count": null,
      "outputs": [
        {
          "output_type": "display_data",
          "data": {
            "text/plain": [
              "<Figure size 432x288 with 1 Axes>"
            ],
            "image/png": "[encoded data removed]"
          },
          "metadata": {
            "needs_background": "light"
          }
        }
      ]
    },
    {
      "cell_type": "markdown",
      "source": [
        "This graphic distribution gives us the distribution of active covid cases according to WHO regions. The largest number of active patients is currently in the Americas. Second most cases are in Europe, followed by South-East-Asia. The least active patients are in the Western Pacific region."
      ],
      "metadata": {
        "id": "GmMBycu426aK"
      }
    },
    {
      "cell_type": "markdown",
      "source": [
        "# Analysis and visualization of developed regions vs least develop regions\n",
        "\n",
        "\n",
        "In order to have a reasonable comparison between 2 regions, it is logical to pick two regions which has similar confirmed cases to achieve more precise result with the rest of parameters such as death recovered and active cases. So its logical to compare western pacific and Africa due to similar amount of confirmed cases in both regions. Since western pacific region has countries like china, japan south korea they can be thought as more developed when its compared with the countries in Africa.\n"
      ],
      "metadata": {
        "id": "pHbZcHIGCrtT"
      }
    },
    {
      "cell_type": "code",
      "source": [
        "#here comes the western pacific vs africa graphs.\n",
        "comparisondf = pd.DataFrame({\"Africa\":[723207, 12223,440645,270339], \"Western Pacific\":[292428, 8249, 206770, 77409]}, index=[\"Confirmed\",\"Deaths\",\"Recovered\",\"Active\"])\n",
        "\n",
        "bars = comparisondf.plot.bar()"
      ],
      "metadata": {
        "id": "1dViLtRsb8C5",
        "colab": {
          "base_uri": "https://localhost:8080/",
          "height": 308
        },
        "outputId": "505caf62-b2cf-42bd-f7b6-0eb2c6b02d81"
      },
      "execution_count": null,
      "outputs": [
        {
          "output_type": "display_data",
          "data": {
            "text/plain": [
              "<Figure size 432x288 with 1 Axes>"
            ],
            "image/png": "[encoded data removed]"
          },
          "metadata": {
            "needs_background": "light"
          }
        }
      ]
    },
    {
      "cell_type": "markdown",
      "source": [
        "# Observations for the comparison of less developed and more developed regions.\n",
        "The following graph shows the relation between least developed and relatively developed region. There are certain outcomes we can make from the above graph. To begin with we can see that When comparing Western Pacific with Africa we can see that Western Pacific has less confirmed covid-19 cases when its compared with Africa, even though they have higher population which is around 1.9 billion when compared to Africa's 1.2 billion. This indicates that countries in Western Pacific could detect the cases and could seperate them to slow down the infection speed which requires developed healthcare system so as a region one can say that Western Pacific is more developed. One variable which shows similartiy is the Death count. Since Covid-19 is not deadly, the number of dead people on both regions are close to each other, However we can see Africa being slighlty higher. Another variable is recovered cases and in this one Africa has higher recvoered cases but if we look at the percentage of people who recovered from africa we have 440645/723207* 100 which is around 60%, and if we compare this with Western Pacific's 206770/292428*100 we have 70.7%. we can see that Western pacific has higher percentage of people recovered then africa with a big 10%. This might be due to the avvailability of special medical equipments such as techniques like intubating the heavy cases. 4the variable which is active cases is confirms the 3rd varible by showing less active cases in Western Pacific."
      ],
      "metadata": {
        "id": "7jwPwJJt1Mkf"
      }
    },
    {
      "cell_type": "markdown",
      "source": [
        "# Visualization of a selected province/state of a given WHO region.\n",
        "\n",
        "in this part of the project we will visualize the confirmed cases deaths recovered cases and active cases of a specific country in a picked WHO Region.\n",
        "\n",
        "USA is picked since its easy to analyze the neighbourhin countries."
      ],
      "metadata": {
        "id": "G71Tn3316Jci"
      }
    },
    {
      "cell_type": "code",
      "source": [
        "#getting the provinces file USA.\n",
        "\n",
        "fname2 = \"usa_county_wise.csv\"\n",
        "worldDF = pd.read_csv(join(path_prefix,fname2))"
      ],
      "metadata": {
        "id": "pPsaGS_d6Wto"
      },
      "execution_count": null,
      "outputs": []
    },
    {
      "cell_type": "code",
      "source": [
        "worldDF.head()"
      ],
      "metadata": {
        "id": "lm20ErVSPFi7",
        "colab": {
          "base_uri": "https://localhost:8080/",
          "height": 206
        },
        "outputId": "d097e906-b9a0-4121-ed80-48ffe337a73e"
      },
      "execution_count": null,
      "outputs": [
        {
          "output_type": "execute_result",
          "data": {
            "text/plain": [
              "        UID iso2 iso3  code3     FIPS    Admin2            Province_State  \\\n",
              "0        16   AS  ASM     16     60.0       NaN            American Samoa   \n",
              "1       316   GU  GUM    316     66.0       NaN                      Guam   \n",
              "2       580   MP  MNP    580     69.0       NaN  Northern Mariana Islands   \n",
              "3  63072001   PR  PRI    630  72001.0  Adjuntas               Puerto Rico   \n",
              "4  63072003   PR  PRI    630  72003.0    Aguada               Puerto Rico   \n",
              "\n",
              "  Country_Region        Lat       Long_                  Combined_Key  \\\n",
              "0             US -14.271000 -170.132000            American Samoa, US   \n",
              "1             US  13.444300  144.793700                      Guam, US   \n",
              "2             US  15.097900  145.673900  Northern Mariana Islands, US   \n",
              "3             US  18.180117  -66.754367     Adjuntas, Puerto Rico, US   \n",
              "4             US  18.360255  -67.175131       Aguada, Puerto Rico, US   \n",
              "\n",
              "      Date  Confirmed  Deaths  \n",
              "0  1/22/20          0       0  \n",
              "1  1/22/20          0       0  \n",
              "2  1/22/20          0       0  \n",
              "3  1/22/20          0       0  \n",
              "4  1/22/20          0       0  "
            ],
            "text/html": [
              "\n",
              "  <div id=\"df-7d874ffe-b771-4e90-bfe2-6aeb2f535a66\">\n",
              "    <div class=\"colab-df-container\">\n",
              "      <div>\n",
              "<style scoped>\n",
              "    .dataframe tbody tr th:only-of-type {\n",
              "        vertical-align: middle;\n",
              "    }\n",
              "\n",
              "    .dataframe tbody tr th {\n",
              "        vertical-align: top;\n",
              "    }\n",
              "\n",
              "    .dataframe thead th {\n",
              "        text-align: right;\n",
              "    }\n",
              "</style>\n",
              "<table border=\"1\" class=\"dataframe\">\n",
              "  <thead>\n",
              "    <tr style=\"text-align: right;\">\n",
              "      <th></th>\n",
              "      <th>UID</th>\n",
              "      <th>iso2</th>\n",
              "      <th>iso3</th>\n",
              "      <th>code3</th>\n",
              "      <th>FIPS</th>\n",
              "      <th>Admin2</th>\n",
              "      <th>Province_State</th>\n",
              "      <th>Country_Region</th>\n",
              "      <th>Lat</th>\n",
              "      <th>Long_</th>\n",
              "      <th>Combined_Key</th>\n",
              "      <th>Date</th>\n",
              "      <th>Confirmed</th>\n",
              "      <th>Deaths</th>\n",
              "    </tr>\n",
              "  </thead>\n",
              "  <tbody>\n",
              "    <tr>\n",
              "      <th>0</th>\n",
              "      <td>16</td>\n",
              "      <td>AS</td>\n",
              "      <td>ASM</td>\n",
              "      <td>16</td>\n",
              "      <td>60.0</td>\n",
              "      <td>NaN</td>\n",
              "      <td>American Samoa</td>\n",
              "      <td>US</td>\n",
              "      <td>-14.271000</td>\n",
              "      <td>-170.132000</td>\n",
              "      <td>American Samoa, US</td>\n",
              "      <td>1/22/20</td>\n",
              "      <td>0</td>\n",
              "      <td>0</td>\n",
              "    </tr>\n",
              "    <tr>\n",
              "      <th>1</th>\n",
              "      <td>316</td>\n",
              "      <td>GU</td>\n",
              "      <td>GUM</td>\n",
              "      <td>316</td>\n",
              "      <td>66.0</td>\n",
              "      <td>NaN</td>\n",
              "      <td>Guam</td>\n",
              "      <td>US</td>\n",
              "      <td>13.444300</td>\n",
              "      <td>144.793700</td>\n",
              "      <td>Guam, US</td>\n",
              "      <td>1/22/20</td>\n",
              "      <td>0</td>\n",
              "      <td>0</td>\n",
              "    </tr>\n",
              "    <tr>\n",
              "      <th>2</th>\n",
              "      <td>580</td>\n",
              "      <td>MP</td>\n",
              "      <td>MNP</td>\n",
              "      <td>580</td>\n",
              "      <td>69.0</td>\n",
              "      <td>NaN</td>\n",
              "      <td>Northern Mariana Islands</td>\n",
              "      <td>US</td>\n",
              "      <td>15.097900</td>\n",
              "      <td>145.673900</td>\n",
              "      <td>Northern Mariana Islands, US</td>\n",
              "      <td>1/22/20</td>\n",
              "      <td>0</td>\n",
              "      <td>0</td>\n",
              "    </tr>\n",
              "    <tr>\n",
              "      <th>3</th>\n",
              "      <td>63072001</td>\n",
              "      <td>PR</td>\n",
              "      <td>PRI</td>\n",
              "      <td>630</td>\n",
              "      <td>72001.0</td>\n",
              "      <td>Adjuntas</td>\n",
              "      <td>Puerto Rico</td>\n",
              "      <td>US</td>\n",
              "      <td>18.180117</td>\n",
              "      <td>-66.754367</td>\n",
              "      <td>Adjuntas, Puerto Rico, US</td>\n",
              "      <td>1/22/20</td>\n",
              "      <td>0</td>\n",
              "      <td>0</td>\n",
              "    </tr>\n",
              "    <tr>\n",
              "      <th>4</th>\n",
              "      <td>63072003</td>\n",
              "      <td>PR</td>\n",
              "      <td>PRI</td>\n",
              "      <td>630</td>\n",
              "      <td>72003.0</td>\n",
              "      <td>Aguada</td>\n",
              "      <td>Puerto Rico</td>\n",
              "      <td>US</td>\n",
              "      <td>18.360255</td>\n",
              "      <td>-67.175131</td>\n",
              "      <td>Aguada, Puerto Rico, US</td>\n",
              "      <td>1/22/20</td>\n",
              "      <td>0</td>\n",
              "      <td>0</td>\n",
              "    </tr>\n",
              "  </tbody>\n",
              "</table>\n",
              "</div>\n",
              "      <button class=\"colab-df-convert\" onclick=\"convertToInteractive('df-7d874ffe-b771-4e90-bfe2-6aeb2f535a66')\"\n",
              "              title=\"Convert this dataframe to an interactive table.\"\n",
              "              style=\"display:none;\">\n",
              "        \n",
              "  <svg xmlns=\"http://www.w3.org/2000/svg\" height=\"24px\"viewBox=\"0 0 24 24\"\n",
              "       width=\"24px\">\n",
              "    <path d=\"M0 0h24v24H0V0z\" fill=\"none\"/>\n",
              "    <path d=\"M18.56 5.44l.94 2.06.94-2.06 2.06-.94-2.06-.94-.94-2.06-.94 2.06-2.06.94zm-11 1L8.5 8.5l.94-2.06 2.06-.94-2.06-.94L8.5 2.5l-.94 2.06-2.06.94zm10 10l.94 2.06.94-2.06 2.06-.94-2.06-.94-.94-2.06-.94 2.06-2.06.94z\"/><path d=\"M17.41 7.96l-1.37-1.37c-.4-.4-.92-.59-1.43-.59-.52 0-1.04.2-1.43.59L10.3 9.45l-7.72 7.72c-.78.78-.78 2.05 0 2.83L4 21.41c.39.39.9.59 1.41.59.51 0 1.02-.2 1.41-.59l7.78-7.78 2.81-2.81c.8-.78.8-2.07 0-2.86zM5.41 20L4 18.59l7.72-7.72 1.47 1.35L5.41 20z\"/>\n",
              "  </svg>\n",
              "      </button>\n",
              "      \n",
              "  <style>\n",
              "    .colab-df-container {\n",
              "      display:flex;\n",
              "      flex-wrap:wrap;\n",
              "      gap: 12px;\n",
              "    }\n",
              "\n",
              "    .colab-df-convert {\n",
              "      background-color: #E8F0FE;\n",
              "      border: none;\n",
              "      border-radius: 50%;\n",
              "      cursor: pointer;\n",
              "      display: none;\n",
              "      fill: #1967D2;\n",
              "      height: 32px;\n",
              "      padding: 0 0 0 0;\n",
              "      width: 32px;\n",
              "    }\n",
              "\n",
              "    .colab-df-convert:hover {\n",
              "      background-color: #E2EBFA;\n",
              "      box-shadow: 0px 1px 2px rgba(60, 64, 67, 0.3), 0px 1px 3px 1px rgba(60, 64, 67, 0.15);\n",
              "      fill: #174EA6;\n",
              "    }\n",
              "\n",
              "    [theme=dark] .colab-df-convert {\n",
              "      background-color: #3B4455;\n",
              "      fill: #D2E3FC;\n",
              "    }\n",
              "\n",
              "    [theme=dark] .colab-df-convert:hover {\n",
              "      background-color: #434B5C;\n",
              "      box-shadow: 0px 1px 3px 1px rgba(0, 0, 0, 0.15);\n",
              "      filter: drop-shadow(0px 1px 2px rgba(0, 0, 0, 0.3));\n",
              "      fill: #FFFFFF;\n",
              "    }\n",
              "  </style>\n",
              "\n",
              "      <script>\n",
              "        const buttonEl =\n",
              "          document.querySelector('#df-7d874ffe-b771-4e90-bfe2-6aeb2f535a66 button.colab-df-convert');\n",
              "        buttonEl.style.display =\n",
              "          google.colab.kernel.accessAllowed ? 'block' : 'none';\n",
              "\n",
              "        async function convertToInteractive(key) {\n",
              "          const element = document.querySelector('#df-7d874ffe-b771-4e90-bfe2-6aeb2f535a66');\n",
              "          const dataTable =\n",
              "            await google.colab.kernel.invokeFunction('convertToInteractive',\n",
              "                                                     [key], {});\n",
              "          if (!dataTable) return;\n",
              "\n",
              "          const docLinkHtml = 'Like what you see? Visit the ' +\n",
              "            '<a target=\"_blank\" href=https://colab.research.google.com/notebooks/data_table.ipynb>data table notebook</a>'\n",
              "            + ' to learn more about interactive tables.';\n",
              "          element.innerHTML = '';\n",
              "          dataTable['output_type'] = 'display_data';\n",
              "          await google.colab.output.renderOutput(dataTable, element);\n",
              "          const docLink = document.createElement('div');\n",
              "          docLink.innerHTML = docLinkHtml;\n",
              "          element.appendChild(docLink);\n",
              "        }\n",
              "      </script>\n",
              "    </div>\n",
              "  </div>\n",
              "  "
            ]
          },
          "metadata": {},
          "execution_count": 5
        }
      ]
    },
    {
      "cell_type": "code",
      "source": [
        "del worldDF[\"UID\"]\n",
        "del worldDF[\"iso2\"]\n",
        "del worldDF[\"iso3\"]\n",
        "del worldDF[\"code3\"]\n",
        "del worldDF[\"FIPS\"]\n",
        "del worldDF[\"Admin2\"]\n",
        "del worldDF[\"Country_Region\"]\n",
        "del worldDF[\"Lat\"]\n",
        "del worldDF[\"Long_\"]"
      ],
      "metadata": {
        "id": "Y9JLeKy5PXcI"
      },
      "execution_count": null,
      "outputs": []
    },
    {
      "cell_type": "code",
      "source": [
        "print(worldDF)"
      ],
      "metadata": {
        "id": "MrMHvOcqPaaZ",
        "colab": {
          "base_uri": "https://localhost:8080/"
        },
        "outputId": "040a687a-88d8-4fc6-b14c-cda3fa702681"
      },
      "execution_count": null,
      "outputs": [
        {
          "output_type": "stream",
          "name": "stdout",
          "text": [
            "                  Province_State                  Combined_Key     Date  \\\n",
            "0                 American Samoa            American Samoa, US  1/22/20   \n",
            "1                           Guam                      Guam, US  1/22/20   \n",
            "2       Northern Mariana Islands  Northern Mariana Islands, US  1/22/20   \n",
            "3                    Puerto Rico     Adjuntas, Puerto Rico, US  1/22/20   \n",
            "4                    Puerto Rico       Aguada, Puerto Rico, US  1/22/20   \n",
            "...                          ...                           ...      ...   \n",
            "627915                      Utah        Central Utah, Utah, US  7/27/20   \n",
            "627916                      Utah      Southeast Utah, Utah, US  7/27/20   \n",
            "627917                      Utah      Southwest Utah, Utah, US  7/27/20   \n",
            "627918                      Utah           TriCounty, Utah, US  7/27/20   \n",
            "627919                      Utah        Weber-Morgan, Utah, US  7/27/20   \n",
            "\n",
            "        Confirmed  Deaths  \n",
            "0               0       0  \n",
            "1               0       0  \n",
            "2               0       0  \n",
            "3               0       0  \n",
            "4               0       0  \n",
            "...           ...     ...  \n",
            "627915        347       1  \n",
            "627916         70       0  \n",
            "627917       2781      23  \n",
            "627918        142       0  \n",
            "627919       2375      24  \n",
            "\n",
            "[627920 rows x 5 columns]\n"
          ]
        }
      ]
    },
    {
      "cell_type": "code",
      "source": [
        "dfStates = worldDF\n",
        "dfStates= dfStates.groupby([\"Province_State\"]).sum()\n",
        "dfStates.insert(0,\"Province_State\",[\"Alabama\", \"Alaska\",\"American Samoa\",\"Arizona\",\"Arkansas\",\"California\",\"Colorado\",\"Connecticut\",\"Delaware\",\"Diamond Princess\",\"District of Columbia\",\"Florida\",\"Georgia\",\"Grand Princess\",\"Guam\",\"Hawaii\",\"Idaho\",\"Illinois\",\"Indiana\",\"Iowa\",\"Kansas\",\"Kentucky\",\"Louisiana\",\"Maine\",\"Maryland\",\"Massachusetts\",\"Michigan\",\"Minnesota\",\"Mississippi\", \"Missouri\",\"Montana\", \"Nebraska\",\"Nevada\",\"New Hampshire\",\"New Jersey\",\"New Mexico\",\"New York\",\"North Carolina\",\"North Dakota\",\"Northern Mariana Islands\", \"Ohio\", \"Oklahoma\",\"Oregon\", \"Pennsylvania\",\"Puerto Rico\",\"Rhode Island\",\"South Carolina\", \"South Dakota\", \"Tennessee\", \"Texas\", \"Utah\", \"Vermont\", \"Virgin Islands\", \"Virginia\", \"Washington\", \"West Virginia\",\"Wisconsin\", \"Wyoming\"],True)\n",
        "\n",
        "print(dfStates)"
      ],
      "metadata": {
        "id": "huRbXA5EPdb7",
        "colab": {
          "base_uri": "https://localhost:8080/"
        },
        "outputId": "38ee3e72-ae55-441d-aa2f-dbc26186116e"
      },
      "execution_count": null,
      "outputs": [
        {
          "output_type": "stream",
          "name": "stdout",
          "text": [
            "                                    Province_State  Confirmed   Deaths\n",
            "Province_State                                                        \n",
            "Alabama                                    Alabama    2880805    73446\n",
            "Alaska                                      Alaska      85686     3999\n",
            "American Samoa                      American Samoa          0        0\n",
            "Arizona                                    Arizona    5272303   128478\n",
            "Arkansas                                  Arkansas    1415802    19171\n",
            "California                              California   17618695   481757\n",
            "Colorado                                  Colorado    2860699   142506\n",
            "Connecticut                            Connecticut    4239220   374346\n",
            "Delaware                                  Delaware     962637    37494\n",
            "Diamond Princess                  Diamond Princess       6511        0\n",
            "District of Columbia          District of Columbia     877997    45014\n",
            "Florida                                    Florida   12657802   292541\n",
            "Georgia                                    Georgia    6859759   222262\n",
            "Grand Princess                      Grand Princess      12866       13\n",
            "Guam                                          Guam      23637      589\n",
            "Hawaii                                      Hawaii      92930     2003\n",
            "Idaho                                        Idaho     565768    12980\n",
            "Illinois                                  Illinois   11900637   541672\n",
            "Indiana                                    Indiana    3792618   200183\n",
            "Iowa                                          Iowa    2231209    57245\n",
            "Kansas                                      Kansas    1188588    38359\n",
            "Kentucky                                  Kentucky    1253913    46743\n",
            "Louisiana                                Louisiana    5383429   285084\n",
            "Maine                                        Maine     257125     9256\n",
            "Maryland                                  Maryland    5393907   254828\n",
            "Massachusetts                        Massachusetts    9874030   666157\n",
            "Michigan                                  Michigan    6690544   576093\n",
            "Minnesota                                Minnesota    2637428   107860\n",
            "Mississippi                            Mississippi    2124940    81848\n",
            "Missouri                                  Missouri    1842504    84491\n",
            "Montana                                    Montana     102564     2265\n",
            "Nebraska                                  Nebraska    1445593    18039\n",
            "Nevada                                      Nevada    1508128    45082\n",
            "New Hampshire                        New Hampshire     471598    25438\n",
            "New Jersey                              New Jersey   16506714  1221339\n",
            "New Mexico                              New Mexico     949764    39170\n",
            "New York                                  New York   39808447  3176945\n",
            "North Carolina                      North Carolina    4573238   103531\n",
            "North Dakota                          North Dakota     290875    12743\n",
            "Northern Mariana Islands  Northern Mariana Islands       2741      230\n",
            "Ohio                                          Ohio    4275663   222951\n",
            "Oklahoma                                  Oklahoma    1106729    35470\n",
            "Oregon                                      Oregon     695008    18165\n",
            "Pennsylvania                          Pennsylvania    8096993   537261\n",
            "Puerto Rico                            Puerto Rico     574636        2\n",
            "Rhode Island                          Rhode Island    1457931       60\n",
            "South Carolina                      South Carolina    2656164    76249\n",
            "South Dakota                          South Dakota     539323    77572\n",
            "Tennessee                                Tennessee    3550017    47601\n",
            "Texas                                        Texas   12698726   210547\n",
            "Utah                                          Utah    1596769    14229\n",
            "Vermont                                    Vermont     120956     5812\n",
            "Virgin Islands                      Virgin Islands      11941      571\n",
            "Virginia                                  Virginia    4778268   136648\n",
            "Washington                              Washington    2892060   124895\n",
            "West Virginia                        West Virginia     260095     9042\n",
            "Wisconsin                                Wisconsin    2250614    62924\n",
            "Wyoming                                    Wyoming     120404      212\n"
          ]
        }
      ]
    },
    {
      "cell_type": "markdown",
      "source": [
        "The graph below shoes the confirmed cases in states and regions of USA\n"
      ],
      "metadata": {
        "id": "hJgkwVa-PkJa"
      }
    },
    {
      "cell_type": "code",
      "source": [
        "bx = dfStates.plot.bar(x=\"Province_State\",y = \"Confirmed\")"
      ],
      "metadata": {
        "id": "6DjsZ2FgPgX-",
        "colab": {
          "base_uri": "https://localhost:8080/",
          "height": 407
        },
        "outputId": "a74b4ad3-9d43-4fce-f8b0-c817c260211d"
      },
      "execution_count": null,
      "outputs": [
        {
          "output_type": "display_data",
          "data": {
            "text/plain": [
              "<Figure size 432x288 with 1 Axes>"
            ],
            "image/png": "[encoded data removed]"
          },
          "metadata": {
            "needs_background": "light"
          }
        }
      ]
    },
    {
      "cell_type": "markdown",
      "source": [
        "The graph below shoes the deaths in states and regions of USA"
      ],
      "metadata": {
        "id": "igIK7LKOPn60"
      }
    },
    {
      "cell_type": "code",
      "source": [
        "bx = dfStates.plot.bar(x=\"Province_State\",y = \"Deaths\")"
      ],
      "metadata": {
        "id": "dZyyuyEbPqrG",
        "colab": {
          "base_uri": "https://localhost:8080/",
          "height": 407
        },
        "outputId": "8d1a333e-d5f5-464f-b128-6a6aae08235d"
      },
      "execution_count": null,
      "outputs": [
        {
          "output_type": "display_data",
          "data": {
            "text/plain": [
              "<Figure size 432x288 with 1 Axes>"
            ],
            "image/png": "[encoded data removed]"
          },
          "metadata": {
            "needs_background": "light"
          }
        }
      ]
    },
    {
      "cell_type": "markdown",
      "source": [
        "# Visulization & Analysis of time series based trends of geographically nearby countries/regions."
      ],
      "metadata": {
        "id": "5DQauB4dENrZ"
      }
    },
    {
      "cell_type": "markdown",
      "source": [
        "In this part first we will visualize and then explain the relation between covid cases and death counts in North America region. We will anylise three neighbouring countries: Unites States, Canada and Mexico"
      ],
      "metadata": {
        "id": "pf-bgW_XPclW"
      }
    },
    {
      "cell_type": "code",
      "source": [
        "fname = \"owid-covid-data.csv\"\n",
        "\n",
        "ndf = pd.read_csv(join(path_prefix,fname))"
      ],
      "metadata": {
        "id": "Or8sSMaEPhOQ"
      },
      "execution_count": null,
      "outputs": []
    },
    {
      "cell_type": "markdown",
      "source": [
        "After reading the .csv file we need assign every country to its own data frame so we can plot them seperately"
      ],
      "metadata": {
        "id": "1yuudrUcPiLM"
      }
    },
    {
      "cell_type": "code",
      "source": [
        "us_df = ndf[ndf[\"location\"] == \"United States\"]\n",
        "ca_df = ndf[ndf[\"location\"] == \"Canada\"]\n",
        "mex_df = ndf[ndf[\"location\"] == \"Mexico\"]\n"
      ],
      "metadata": {
        "id": "kyDW4b2zPlby"
      },
      "execution_count": null,
      "outputs": []
    },
    {
      "cell_type": "markdown",
      "source": [
        "# Visualization of positive covid cases per day (Unites States - Canada - Mexico)"
      ],
      "metadata": {
        "id": "EztEp0pAPmGp"
      }
    },
    {
      "cell_type": "code",
      "source": [
        "figure, axes = plt.subplots(1, 3)\n",
        "us_df.plot(title = \"New Positive Covid cases in Unites States\", x=\"date\",y=\"new_cases_smoothed\",kind = \"line\", figsize = (32,5), ax=axes[0])\n",
        "ca_df.plot(title = \"New Positive Covid cases in Canada\", x=\"date\",y=\"new_cases_smoothed\",kind = \"line\", figsize = (32,5), color=\"red\", ax=axes[1])\n",
        "mex_df.plot(title = \"New Positive Covid cases in Mexico\", x=\"date\",y=\"new_cases_smoothed\",kind = \"line\", figsize = (32,5), color=\"green\", ax=axes[2])\n"
      ],
      "metadata": {
        "colab": {
          "base_uri": "https://localhost:8080/",
          "height": 359
        },
        "id": "j6Q2saZbPqPc",
        "outputId": "9daa13b1-b853-47c6-cd6e-053cf1708f4c"
      },
      "execution_count": null,
      "outputs": [
        {
          "output_type": "execute_result",
          "data": {
            "text/plain": [
              "<matplotlib.axes._subplots.AxesSubplot at 0x7fea0a217690>"
            ]
          },
          "metadata": {},
          "execution_count": 6
        },
        {
          "output_type": "display_data",
          "data": {
            "text/plain": [
              "<Figure size 2304x360 with 3 Axes>"
            ],
            "image/png": "[encoded data removed]"
          },
          "metadata": {
            "needs_background": "light"
          }
        }
      ]
    },
    {
      "cell_type": "markdown",
      "source": [
        "These charts show us the number of positive cases in United States, Canada, Mexico according to the dates on the x-axis. In the United States, the maximum number of positive cases was seen on 2021.12.22. In Canada, the most positive case was seen on 2021.12.23. In Mexico, positive cases increased at most by the end of 2021. When we look at all 3 graphs at the same time, we can say that positive cases have been on the rise since the last month of 2021.  The highest number of positive cases in the United States reached 80000, while Canada reached 4000 and Mexico 5000. The high number of these cases is also directly proportional to the populations of the countries in the chart. In areas where the population is high, the disease is transmitted to more people. It can be said that the trend lines for all 3 charts are close to each other."
      ],
      "metadata": {
        "id": "838qKyi_S-nF"
      }
    },
    {
      "cell_type": "markdown",
      "source": [
        "# Visualization of covid deaths per day (Unites States - Canada - Mexico)"
      ],
      "metadata": {
        "id": "PNGTsg6pQByi"
      }
    },
    {
      "cell_type": "code",
      "source": [
        "figure, axes = plt.subplots(1, 3)\n",
        "us_df.plot(title = \"New Covid deaths in Unites States\", x=\"date\",y=\"new_deaths_smoothed\",kind = \"line\", figsize = (32,5), ax=axes[0])\n",
        "ca_df.plot(title = \"New Covid deaths in Canada\", x=\"date\",y=\"new_deaths_smoothed\",kind = \"line\", figsize = (32,5), color=\"red\", ax=axes[1])\n",
        "mex_df.plot(title = \"New Covid deaths in Mexico\", x=\"date\",y=\"new_deaths_smoothed\",kind = \"line\", figsize = (32,5), color=\"green\", ax=axes[2])"
      ],
      "metadata": {
        "colab": {
          "base_uri": "https://localhost:8080/",
          "height": 361
        },
        "id": "PV2sp9MRQEf7",
        "outputId": "d7cf3651-57ce-4302-a498-e0fc279dccc6"
      },
      "execution_count": null,
      "outputs": [
        {
          "output_type": "execute_result",
          "data": {
            "text/plain": [
              "<matplotlib.axes._subplots.AxesSubplot at 0x7fea08272e10>"
            ]
          },
          "metadata": {},
          "execution_count": 7
        },
        {
          "output_type": "display_data",
          "data": {
            "text/plain": [
              "<Figure size 2304x360 with 3 Axes>"
            ],
            "image/png": "[encoded data removed]"
          },
          "metadata": {
            "needs_background": "light"
          }
        }
      ]
    },
    {
      "cell_type": "markdown",
      "source": [
        "# Discussion of any relationship between USA and canada-mexico"
      ],
      "metadata": {
        "id": "GcmjGEvRyv7J"
      }
    },
    {
      "cell_type": "markdown",
      "source": [
        "These graphical distributions give us the numbers of COVID patients who died in the United States, Mexico, and Canada, according to the dates given on the x-axis. More people died in Canada early on, followed by the United States in second place. United States gave the highest number of deaths between 2021.11.17 and 2021.02.25. Mexico had the highest increase in the number of deaths between 2020.10.27 and 2021.02.04. When the 3 graphs are examined together, the highest number of deaths is in the USA, followed by Mexico. The least number of deaths is Canada. While interpreting these death numbers, the population numbers, development and health conditions of the selected regions should also be taken into consideration. Since the trend lines of these 3 regions are not close to each other, we cannot talk about an inter-regional relationship."
      ],
      "metadata": {
        "id": "Bb4gqAlXWZsZ"
      }
    },
    {
      "cell_type": "markdown",
      "source": [
        "# New Features on Data Sets"
      ],
      "metadata": {
        "id": "NFliY_ukSz6i"
      }
    },
    {
      "cell_type": "markdown",
      "source": [
        "To find relationships we need to sum the values in terms of continents. And then make a comparison geographically."
      ],
      "metadata": {
        "id": "UPiKpJ5tS8Bg"
      }
    },
    {
      "cell_type": "code",
      "source": [
        "continents = ndf\n",
        "continents = continents.groupby([\"continent\"]).sum()\n",
        "continents.insert(0,\"continent\",[\"Africa\", \"Asia\",\"Europe\",\"North America\",\"Oceania\", \"South America\"],True)\n"
      ],
      "metadata": {
        "id": "WBrUDOYoT2MA"
      },
      "execution_count": null,
      "outputs": []
    },
    {
      "cell_type": "markdown",
      "source": [
        "# Relation between smoking ratio and covid deaths"
      ],
      "metadata": {
        "id": "Q5JN1WbwTaUi"
      }
    },
    {
      "cell_type": "code",
      "source": [
        "figure, axes = plt.subplots(1, 2)\n",
        "\n",
        "ax = continents.plot.bar(x=\"continent\",y = \"male_smokers\", ax=axes[0], figsize = (15,5), label = \"smokers ratio\")\n",
        "ax = continents.plot.bar(x=\"continent\",y = \"new_deaths\", ax=axes[1], figsize = (15,5), label = \"covid deaths\")"
      ],
      "metadata": {
        "colab": {
          "base_uri": "https://localhost:8080/",
          "height": 408
        },
        "id": "SGhuHrRZTeZs",
        "outputId": "26b1eb90-31c7-4d35-ab2c-f78829376fdb"
      },
      "execution_count": null,
      "outputs": [
        {
          "output_type": "display_data",
          "data": {
            "text/plain": [
              "<Figure size 1080x360 with 2 Axes>"
            ],
            "image/png": "[encoded data removed]"
          },
          "metadata": {
            "needs_background": "light"
          }
        }
      ]
    },
    {
      "cell_type": "markdown",
      "source": [
        "These graphs give us the rate of smoking and the rate of patients who died from covid. The highest cigarette smoking is in the Asian and Europe region, and the least cigarette smoking is in the South America region. Although more cigarettes are consumed in Asia, the region losing the most patients is Europe. More people smoke in Africa than South America, but South America has a higher death rate than Africa. It is somewhat difficult to interpret the relationship between the rate of cigarette consumption and the covid death rates by looking at these graphs. We cannot give a full description of the relationship."
      ],
      "metadata": {
        "id": "e4SYsOkQcM9F"
      }
    },
    {
      "cell_type": "markdown",
      "source": [
        "# Relation between diabetes prevalence and covid deaths"
      ],
      "metadata": {
        "id": "q81p0p-LT9Ej"
      }
    },
    {
      "cell_type": "code",
      "source": [
        "figure, axes = plt.subplots(1, 2)\n",
        "\n",
        "ax = continents.plot.bar(x=\"continent\", y = \"diabetes_prevalence\", ax=axes[0], figsize = (15,5))\n",
        "ax = continents.plot.bar(x=\"continent\", y = \"new_deaths\", ax=axes[1], figsize = (15,6), label = \"covid deaths\")\n"
      ],
      "metadata": {
        "colab": {
          "base_uri": "https://localhost:8080/",
          "height": 462
        },
        "id": "tV7kRQBNT_BA",
        "outputId": "fa279153-8d0e-431a-d21c-3571b0ae8221"
      },
      "execution_count": null,
      "outputs": [
        {
          "output_type": "display_data",
          "data": {
            "text/plain": [
              "<Figure size 1080x432 with 2 Axes>"
            ],
            "image/png": "[encoded data removed]"
          },
          "metadata": {
            "needs_background": "light"
          }
        }
      ]
    },
    {
      "cell_type": "markdown",
      "source": [
        "These charts give us the distribution of diabetes prevalence and covid mortality rates. The places with the highest incidence of diabetes are in Asia and North America. Despite this, the highest mortality rate seems to be in Europe and North America. The region with the lowest incidence of diabetes is South America, but the death rate in South America is higher than in Oceania. Therefore, we cannot talk about the relationship between diabetes and the number of deaths from covid by looking at these graphs."
      ],
      "metadata": {
        "id": "L0gs4_gXdYNb"
      }
    },
    {
      "cell_type": "markdown",
      "source": [
        "# Relation between total continent population and positive cases"
      ],
      "metadata": {
        "id": "_sDtXuN9UUhv"
      }
    },
    {
      "cell_type": "code",
      "source": [
        "figure, axes = plt.subplots(1, 2)\n",
        "\n",
        "populationdf = pd.DataFrame({\"Population\":[1216000000, 4561000000, 748458986, 579000000, 43666462, 4225000000]}, index=[\"Africa\",\"Asia\",\"Europe\",\"North America\", \"Oceania\", \"South America\"])\n",
        "\n",
        "populationdf = populationdf.plot.bar(ax=axes[0])\n",
        "ax = continents.plot.bar(x=\"continent\",y = \"new_cases\", ax=axes[1], figsize = (15,6), label = \"total positive covid cases\")\n"
      ],
      "metadata": {
        "colab": {
          "base_uri": "https://localhost:8080/",
          "height": 462
        },
        "id": "N9r-BLllWciW",
        "outputId": "8129b4c0-bf1d-4aa5-ccc0-36791c492c85"
      },
      "execution_count": null,
      "outputs": [
        {
          "output_type": "display_data",
          "data": {
            "text/plain": [
              "<Figure size 1080x432 with 2 Axes>"
            ],
            "image/png": "[encoded data removed]"
          },
          "metadata": {
            "needs_background": "light"
          }
        }
      ]
    },
    {
      "cell_type": "markdown",
      "source": [
        "These graphs give us information about the population and the number of positive covid cases. The highest population is in the Asian region, followed by South America. The least populated region is the Oceanian. Although the Asian region has the highest population, Europe has the highest number of positive cases. The second highest number of positive cases is in the Asian region. The Oceanian region, which has the least population, also has the least total number of positive cases. Unfortunately, we cannot say that there is a relationship between these two graphs."
      ],
      "metadata": {
        "id": "Zy4NU--shn0X"
      }
    },
    {
      "cell_type": "markdown",
      "source": [
        "# Relation between Cardiovasc and covid deaths"
      ],
      "metadata": {
        "id": "XtTJNxRzWlWA"
      }
    },
    {
      "cell_type": "code",
      "source": [
        "figure, axes = plt.subplots(1, 2)\n",
        "\n",
        "ax = continents.plot.bar(x=\"continent\",y = \"cardiovasc_death_rate\", ax=axes[0], figsize = (15,5))\n",
        "ax = continents.plot.bar(x=\"continent\",y = \"new_deaths\", ax=axes[1], figsize = (15,6), label = \"covid deaths\")\n"
      ],
      "metadata": {
        "colab": {
          "base_uri": "https://localhost:8080/",
          "height": 462
        },
        "id": "PQRlDHl7Wq96",
        "outputId": "ad5074e7-7ac5-4659-f77e-d8bbefc635fc"
      },
      "execution_count": null,
      "outputs": [
        {
          "output_type": "display_data",
          "data": {
            "text/plain": [
              "<Figure size 1080x432 with 2 Axes>"
            ],
            "image/png": "[encoded data removed]"
          },
          "metadata": {
            "needs_background": "light"
          }
        }
      ]
    },
    {
      "cell_type": "markdown",
      "source": [
        "These graphs give us the rate of people who died using the cardiovasc drug and the number of people who died from covid. The highest rate of deaths from Cardiovasc is in the African region and second in Asia. The proportion of deaths using Cardiovasc is the least in South America. Looking at the overall mortality rates, the highest number of deaths is in Europe and the lowest in the Oceania region. Looking at these two graphs, unfortunately, it is difficult to say that there is a relationship between them. So there is no relationship."
      ],
      "metadata": {
        "id": "ohHv3WMphoeI"
      }
    },
    {
      "cell_type": "markdown",
      "source": [
        "# Statical Tests On Geographically Nearby Countries (USA - Canada - Mexico)"
      ],
      "metadata": {
        "id": "iUo1xkIOGv2G"
      }
    },
    {
      "cell_type": "markdown",
      "source": [
        "We will use previously defined us, ca & mex dataframes for the statistic tests."
      ],
      "metadata": {
        "id": "1Z5MMbvRG56g"
      }
    },
    {
      "cell_type": "markdown",
      "source": [
        "# Confirmed Positive Cases Statistic Comparison (North America)"
      ],
      "metadata": {
        "id": "nlRBVoFCHJ_n"
      }
    },
    {
      "cell_type": "markdown",
      "source": [
        "**United States**"
      ],
      "metadata": {
        "id": "iinTiKckHK2T"
      }
    },
    {
      "cell_type": "code",
      "source": [
        "print(\"Mean:\", int(us_df[\"new_cases\"].mean()))\n",
        "print(\"Standard Deviation:\", int(us_df[\"new_cases\"].std()))\n",
        "print(\"Peak Day:\", int(us_df[\"new_cases\"].max()))"
      ],
      "metadata": {
        "colab": {
          "base_uri": "https://localhost:8080/"
        },
        "id": "1Vi-zymwH5Ie",
        "outputId": "aef61317-fad5-4bd7-9323-dcb81a9bde5f"
      },
      "execution_count": null,
      "outputs": [
        {
          "output_type": "stream",
          "name": "stdout",
          "text": [
            "Mean: 102542\n",
            "Standard Deviation: 147796\n",
            "Peak Day: 1368167\n"
          ]
        }
      ]
    },
    {
      "cell_type": "markdown",
      "source": [
        "Number of confirmed positive cases compared to North America for United States mean 102542, standard deviation 147796 peak day is 1368167."
      ],
      "metadata": {
        "id": "Kur_zEW2H-Kr"
      }
    },
    {
      "cell_type": "markdown",
      "source": [
        "**Canada**"
      ],
      "metadata": {
        "id": "i3SKjHY3H8fm"
      }
    },
    {
      "cell_type": "code",
      "source": [
        "print(\"Mean:\", int(ca_df[\"new_cases\"].mean()))\n",
        "print(\"Standard Deviation:\", int(ca_df[\"new_cases\"].std()))\n",
        "print(\"Peak Day:\", int(ca_df[\"new_cases\"].max()))"
      ],
      "metadata": {
        "colab": {
          "base_uri": "https://localhost:8080/"
        },
        "id": "bXGLrNA8IAKX",
        "outputId": "2b990851-b16d-4e5e-f4aa-ca22028ad1dc"
      },
      "execution_count": null,
      "outputs": [
        {
          "output_type": "stream",
          "name": "stdout",
          "text": [
            "Mean: 4313\n",
            "Standard Deviation: 6937\n",
            "Peak Day: 58934\n"
          ]
        }
      ]
    },
    {
      "cell_type": "markdown",
      "source": [
        "Number of confirmed positive cases compared to North America for Canada mean 4313, standard deviation 6937 peak day is 58934."
      ],
      "metadata": {
        "id": "w3G4F6pxINf2"
      }
    },
    {
      "cell_type": "markdown",
      "source": [
        "**Mexico**"
      ],
      "metadata": {
        "id": "XSXXia7JIByd"
      }
    },
    {
      "cell_type": "code",
      "source": [
        "print(\"Mean:\", int(mex_df[\"new_cases\"].mean()))\n",
        "print(\"Standard Deviation:\", int(mex_df[\"new_cases\"].std()))\n",
        "print(\"Peak Day:\", int(mex_df[\"new_cases\"].max()))"
      ],
      "metadata": {
        "colab": {
          "base_uri": "https://localhost:8080/"
        },
        "id": "KmfNBi4mIDGX",
        "outputId": "1aad4a70-9a26-4af4-aca2-d184fed091b0"
      },
      "execution_count": null,
      "outputs": [
        {
          "output_type": "stream",
          "name": "stdout",
          "text": [
            "Mean: 7536\n",
            "Standard Deviation: 10779\n",
            "Peak Day: 109895\n"
          ]
        }
      ]
    },
    {
      "cell_type": "markdown",
      "source": [
        "Number of confirmed positive cases compared to North America for Mexico mean 7536, standard deviation 10779 peak day is 109895."
      ],
      "metadata": {
        "id": "2lezuMmVIyNb"
      }
    },
    {
      "cell_type": "markdown",
      "source": [
        ""
      ],
      "metadata": {
        "id": "Hm4kQ6hOIV9g"
      }
    },
    {
      "cell_type": "markdown",
      "source": [
        "# Death Counts Statistic Comparison (North America)"
      ],
      "metadata": {
        "id": "I0onLyiTIFZG"
      }
    },
    {
      "cell_type": "markdown",
      "source": [
        "**United States**"
      ],
      "metadata": {
        "id": "YkToRyHXIGb7"
      }
    },
    {
      "cell_type": "code",
      "source": [
        "print(\"Mean:\", int(us_df[\"new_deaths\"].mean()))\n",
        "print(\"Standard Deviation:\", int(us_df[\"new_deaths\"].std()))\n",
        "print(\"Peak Day::\", int(us_df[\"new_deaths\"].max()))"
      ],
      "metadata": {
        "colab": {
          "base_uri": "https://localhost:8080/"
        },
        "id": "dm2m_2U1IIsy",
        "outputId": "5f584f24-295b-4985-b3b9-601556d464db"
      },
      "execution_count": null,
      "outputs": [
        {
          "output_type": "stream",
          "name": "stdout",
          "text": [
            "Mean: 1302\n",
            "Standard Deviation: 986\n",
            "Peak Day:: 4442\n"
          ]
        }
      ]
    },
    {
      "cell_type": "markdown",
      "source": [
        "Number of deaths statistically compared to North America for United States mean 1302, standard deviation 986\n",
        "peak day is 4442."
      ],
      "metadata": {
        "id": "K5-6cnauG4lY"
      }
    },
    {
      "cell_type": "markdown",
      "source": [
        "**Canada**"
      ],
      "metadata": {
        "id": "Y6u-SLhEIJ8h"
      }
    },
    {
      "cell_type": "code",
      "source": [
        "print(\"Mean:\", int(ca_df[\"new_deaths\"].mean()))\n",
        "print(\"Standard Deviation :\", int(ca_df[\"new_deaths\"].std()))\n",
        "print(\"Peak Day:\", int(ca_df[\"new_deaths\"].max()))"
      ],
      "metadata": {
        "colab": {
          "base_uri": "https://localhost:8080/"
        },
        "id": "Rbc7593UIMGK",
        "outputId": "596d2193-41f5-45ae-8092-e4ce72875e8d"
      },
      "execution_count": null,
      "outputs": [
        {
          "output_type": "stream",
          "name": "stdout",
          "text": [
            "Mean: 50\n",
            "Standard Deviation : 51\n",
            "Peak Day: 272\n"
          ]
        }
      ]
    },
    {
      "cell_type": "code",
      "source": [
        ""
      ],
      "metadata": {
        "id": "dyDxQMXwHYUV"
      },
      "execution_count": null,
      "outputs": []
    },
    {
      "cell_type": "markdown",
      "source": [
        "Number of deaths statistically compared to North America for Canada mean 50, standard deviation 51\n",
        "peak day is 272."
      ],
      "metadata": {
        "id": "6Zh8iWy6HKwB"
      }
    },
    {
      "cell_type": "markdown",
      "source": [
        "**Mexico**"
      ],
      "metadata": {
        "id": "7vOcwgplINt0"
      }
    },
    {
      "cell_type": "code",
      "source": [
        "print(\"Mean:\", int(mex_df[\"new_deaths\"].mean()))\n",
        "print(\"Standard Deviation:\", int(mex_df[\"new_deaths\"].std()))\n",
        "print(\"Peak Day:\", int(mex_df[\"new_deaths\"].max()))"
      ],
      "metadata": {
        "colab": {
          "base_uri": "https://localhost:8080/"
        },
        "id": "M24mS05fIPiG",
        "outputId": "48415475-ece0-476c-e8a9-6e8d42343ec6"
      },
      "execution_count": null,
      "outputs": [
        {
          "output_type": "stream",
          "name": "stdout",
          "text": [
            "Mean: 437\n",
            "Standard Deviation: 362\n",
            "Peak Day: 3050\n"
          ]
        }
      ]
    },
    {
      "cell_type": "markdown",
      "source": [
        "Number of deaths statistically compared to North America for Mexico mean 437, standard deviation 362\n",
        "peak day is 3050."
      ],
      "metadata": {
        "id": "CjXbtAwGI_Lb"
      }
    },
    {
      "cell_type": "markdown",
      "source": [
        "# Statistical Check wether Geographical location has any effect on the confirmed and death counts of countries/regions throughout the time period.\n",
        "\n",
        "\n",
        "\n",
        "\n",
        "\n",
        "\n",
        "\n",
        "\n",
        "\n",
        "in this part of the project we will make an analysis on wether geographical location has any effect on the trend of covid-19. To be able to analyze this, we should have the cumilative counts of the parameters to total active cases then calculating the means of regions and calculating the mean of the whole world to see wether a region does better at fighting againsts covid-19.\n",
        "\n",
        "\n",
        "\n",
        "\n",
        "\n",
        "\n",
        "\n",
        "\n",
        "To begin with we should calculate the mean of the whole world in terms of active cases and death counts to compare with other regions."
      ],
      "metadata": {
        "id": "8xP1tkQtCKIY"
      }
    },
    {
      "cell_type": "code",
      "source": [
        "print(Wdf)"
      ],
      "metadata": {
        "colab": {
          "base_uri": "https://localhost:8080/"
        },
        "id": "sIPGjofQCK5Q",
        "outputId": "56aaad3d-f0ec-425a-9719-85237138a58b"
      },
      "execution_count": null,
      "outputs": [
        {
          "output_type": "stream",
          "name": "stdout",
          "text": [
            "         Country/Region  Confirmed  Deaths  Recovered  Active  \\\n",
            "0           Afghanistan      36263    1269      25198    9796   \n",
            "1               Albania       4880     144       2745    1991   \n",
            "2               Algeria      27973    1163      18837    7973   \n",
            "3               Andorra        907      52        803      52   \n",
            "4                Angola        950      41        242     667   \n",
            "..                  ...        ...     ...        ...     ...   \n",
            "182  West Bank and Gaza      10621      78       3752    6791   \n",
            "183      Western Sahara         10       1          8       1   \n",
            "184               Yemen       1691     483        833     375   \n",
            "185              Zambia       4552     140       2815    1597   \n",
            "186            Zimbabwe       2704      36        542    2126   \n",
            "\n",
            "                WHO Region  \n",
            "0    Eastern Mediterranean  \n",
            "1                   Europe  \n",
            "2                   Africa  \n",
            "3                   Europe  \n",
            "4                   Africa  \n",
            "..                     ...  \n",
            "182  Eastern Mediterranean  \n",
            "183                 Africa  \n",
            "184  Eastern Mediterranean  \n",
            "185                 Africa  \n",
            "186                 Africa  \n",
            "\n",
            "[187 rows x 6 columns]\n"
          ]
        }
      ]
    },
    {
      "cell_type": "code",
      "source": [
        "world_death_mean = Wdf[\"Deaths\"].mean()\n",
        "print(world_death_mean)"
      ],
      "metadata": {
        "colab": {
          "base_uri": "https://localhost:8080/"
        },
        "id": "5L-OZekzCXzx",
        "outputId": "ddb970ab-0ae5-4d29-ab90-daffcb44980b"
      },
      "execution_count": null,
      "outputs": [
        {
          "output_type": "stream",
          "name": "stdout",
          "text": [
            "3497.51871657754\n"
          ]
        }
      ]
    },
    {
      "cell_type": "markdown",
      "source": [
        "The above number is the mean of deaths of the whole world, now we will calculate each regions death counts and compare them with the number above."
      ],
      "metadata": {
        "id": "aaa4g5JXCeAK"
      }
    },
    {
      "cell_type": "code",
      "source": [
        "europe_death_mean = Wdf.groupby(by=\"WHO Region\")[\"Deaths\"].mean()[\"Europe\"]\n",
        "africa_death_mean = Wdf.groupby(by=\"WHO Region\")[\"Deaths\"].mean()[\"Africa\"]\n",
        "americas_death_mean = Wdf.groupby(by=\"WHO Region\")[\"Deaths\"].mean()[\"Americas\"]\n",
        "western_pacific_death_mean = Wdf.groupby(by=\"WHO Region\")[\"Deaths\"].mean()[\"Western Pacific\"]\n",
        "eastern_med_death_mean = Wdf.groupby(by=\"WHO Region\")[\"Deaths\"].mean()[\"Eastern Mediterranean\"]\n",
        "SEA_death_mean = Wdf.groupby(by=\"WHO Region\")[\"Deaths\"].mean()[\"South-East Asia\"]"
      ],
      "metadata": {
        "id": "4R6Cpy-QCgl_"
      },
      "execution_count": null,
      "outputs": []
    },
    {
      "cell_type": "code",
      "source": [
        "print(\"Europe Death Mean:\",europe_death_mean)\n",
        "print(\"Africa Death Mean:\", africa_death_mean)\n",
        "print(\"Americas Death Mean:\", americas_death_mean)\n",
        "print(\"Western Pacific Death Mean:\", western_pacific_death_mean)\n",
        "print(\"Eastern Mediterranean Death Mean:\", eastern_med_death_mean)\n",
        "print(\"South-East Asia Death Mean:\", SEA_death_mean)\n",
        "print(\"**************************************************************\")\n",
        "print(\"World death mean is:\",Wdf[\"Deaths\"].mean())"
      ],
      "metadata": {
        "colab": {
          "base_uri": "https://localhost:8080/"
        },
        "id": "iQ4CcyxhCkpP",
        "outputId": "e0a2caa7-bb98-47f4-a9d1-3da92e196aeb"
      },
      "execution_count": null,
      "outputs": [
        {
          "output_type": "stream",
          "name": "stdout",
          "text": [
            "Europe Death Mean: 3770.4285714285716\n",
            "Africa Death Mean: 254.64583333333334\n",
            "Americas Death Mean: 9792.342857142858\n",
            "Western Pacific Death Mean: 515.5625\n",
            "Eastern Mediterranean Death Mean: 1742.6818181818182\n",
            "South-East Asia Death Mean: 4134.9\n",
            "**************************************************************\n",
            "World death mean is: 3497.51871657754\n"
          ]
        }
      ]
    },
    {
      "cell_type": "code",
      "source": [
        "from scipy.stats import skewnorm, norm\n",
        "import scipy.stats as stats\n",
        "import numpy as np\n",
        "import matplotlib.pyplot as plt"
      ],
      "metadata": {
        "id": "EUbxHqe6Cqup"
      },
      "execution_count": null,
      "outputs": []
    },
    {
      "cell_type": "code",
      "source": [
        "#number of instances(all countries)\n",
        "n = 187\n",
        "#mean \n",
        "m = world_death_mean\n",
        "#calculating the standard deviation for regions\n",
        "values = [europe_death_mean, africa_death_mean, americas_death_mean, western_pacific_death_mean, eastern_med_death_mean,SEA_death_mean]\n",
        "std = np.std(values)\n",
        "\n",
        "x = np.linspace(m-3*std, m + 3*std, 100)\n",
        "plt.plot(x, stats.norm.pdf(x, m, std))\n",
        "plt.title(\"Normal Distrbiution Of World on Death Counts\")\n",
        "plt.xlabel(\"Death means\")\n",
        "plt.show()"
      ],
      "metadata": {
        "colab": {
          "base_uri": "https://localhost:8080/",
          "height": 295
        },
        "id": "u0kcxEbZCsRj",
        "outputId": "138b8474-3ae4-4f69-d644-01b34b7c7f30"
      },
      "execution_count": null,
      "outputs": [
        {
          "output_type": "display_data",
          "data": {
            "text/plain": [
              "<Figure size 432x288 with 1 Axes>"
            ],
            "image/png": "[encoded data removed]"
          },
          "metadata": {
            "needs_background": "light"
          }
        }
      ]
    },
    {
      "cell_type": "markdown",
      "source": [
        "Negative death values are due to fact that we take world mean as the mean and the x_axis range is between mean +- 3 times standart dev. since 3 times stdandart dev falls to negaitve part negative values come up."
      ],
      "metadata": {
        "id": "RwpHUHv-C0wB"
      }
    },
    {
      "cell_type": "markdown",
      "source": [
        "From the values of death means we can see warm regions has less death means, which shows that the virus is more affective in the cold climates such as americas where there is canada which is known for hars cold climate or europe where most of the countries has dominant cold climate."
      ],
      "metadata": {
        "id": "dR9cLVr9C3qr"
      }
    },
    {
      "cell_type": "markdown",
      "source": [
        "In the previous section, we calculated the mean deaths in the regions. We reached the values of 3770.4285714285716 for Europe, 254.645833333333334 for Africa, 9792.342857142858 for America, 515.5625 for the Western Pacific, 1742.6818181818182 for the Eastern Mediterranean, and 4134.9 for South-East Asia. Finally, the mean death rate in the world is 3497.51871657754. Africa, East Mediterranean, and Western Pacific regions are in the average of 0-2500 deaths in this chart, while Europe and South-East Asia are between 2500-5000. Finally, America is in the 7500-10000 range."
      ],
      "metadata": {
        "id": "IKjf8FOZC4k-"
      }
    },
    {
      "cell_type": "markdown",
      "source": [
        "# MEANS OF NUMBER OF ACTIVE CASES\n",
        "\n",
        "\n",
        "\n",
        "In this segment we calculate the mean of number of active cases and standard deviations of active cases with respect to world mean in order to see the relationship between countries."
      ],
      "metadata": {
        "id": "MRUVjORADDLV"
      }
    },
    {
      "cell_type": "code",
      "source": [
        "world_AC_mean = Wdf[\"Active\"].mean()\n",
        "print(world_AC_mean)"
      ],
      "metadata": {
        "colab": {
          "base_uri": "https://localhost:8080/"
        },
        "id": "LVH9mA4JDItl",
        "outputId": "bd9b148f-2b9c-48ea-a7e4-65921d34342d"
      },
      "execution_count": null,
      "outputs": [
        {
          "output_type": "stream",
          "name": "stdout",
          "text": [
            "34001.935828877\n"
          ]
        }
      ]
    },
    {
      "cell_type": "markdown",
      "source": [
        "Above code shows the mean of active cases of the world"
      ],
      "metadata": {
        "id": "qDbpkN4TDNyN"
      }
    },
    {
      "cell_type": "code",
      "source": [
        "europe_AC_mean = Wdf.groupby(by=\"WHO Region\")[\"Active\"].mean()[\"Europe\"]\n",
        "africa_AC_mean = Wdf.groupby(by=\"WHO Region\")[\"Active\"].mean()[\"Africa\"]\n",
        "americas_AC_mean = Wdf.groupby(by=\"WHO Region\")[\"Active\"].mean()[\"Americas\"]\n",
        "western_pacific_AC_mean = Wdf.groupby(by=\"WHO Region\")[\"Active\"].mean()[\"Western Pacific\"]\n",
        "eastern_med_AC_mean = Wdf.groupby(by=\"WHO Region\")[\"Active\"].mean()[\"Eastern Mediterranean\"]\n",
        "SEA_AC_mean = Wdf.groupby(by=\"WHO Region\")[\"Active\"].mean()[\"South-East Asia\"]"
      ],
      "metadata": {
        "id": "YuMpzgRUDPmV"
      },
      "execution_count": null,
      "outputs": []
    },
    {
      "cell_type": "code",
      "source": [
        "print(\"Europe Active Mean:\",europe_AC_mean)\n",
        "print(\"Africa Active Mean:\", africa_AC_mean)\n",
        "print(\"Americas Active Mean:\", americas_AC_mean)\n",
        "print(\"Western Pacific Active Mean:\", western_pacific_AC_mean)\n",
        "print(\"Eastern Mediterranean Active Mean:\", eastern_med_AC_mean)\n",
        "print(\"South-East Asia Active Mean:\", SEA_AC_mean)\n",
        "print(\"**************************************************************\")\n",
        "print(\"World Active mean is:\",Wdf[\"Active\"].mean())"
      ],
      "metadata": {
        "colab": {
          "base_uri": "https://localhost:8080/"
        },
        "id": "y3TWuDKgDQSA",
        "outputId": "a38948e1-ee5e-48da-dd99-744469228eae"
      },
      "execution_count": null,
      "outputs": [
        {
          "output_type": "stream",
          "name": "stdout",
          "text": [
            "Europe Active Mean: 19547.428571428572\n",
            "Africa Active Mean: 5632.0625\n",
            "Americas Active Mean: 115083.94285714286\n",
            "Western Pacific Active Mean: 4838.0625\n",
            "Eastern Mediterranean Active Mean: 11409.318181818182\n",
            "South-East Asia Active Mean: 63701.5\n",
            "**************************************************************\n",
            "World Active mean is: 34001.935828877\n"
          ]
        }
      ]
    },
    {
      "cell_type": "markdown",
      "source": [
        "the above finding shows the average cases of each WHO region and their comparison for the world mean."
      ],
      "metadata": {
        "id": "Dq4XjG6pDT-L"
      }
    },
    {
      "cell_type": "code",
      "source": [
        "#number of instances(all countries)\n",
        "n = 187\n",
        "#mean \n",
        "m = world_AC_mean\n",
        "#calculating the standard deviation for regions\n",
        "values = [europe_AC_mean, africa_AC_mean, americas_AC_mean, western_pacific_AC_mean, eastern_med_AC_mean,SEA_AC_mean]\n",
        "std = np.std(values)\n",
        "\n",
        "x = np.linspace(m-3*std, m + 3*std, 100)\n",
        "plt.plot(x, stats.norm.pdf(x, m, std))\n",
        "plt.title(\"Normal Distrbiution Of World on Active Cases\")\n",
        "plt.xlabel(\"Active case means\")\n",
        "plt.show()"
      ],
      "metadata": {
        "colab": {
          "base_uri": "https://localhost:8080/",
          "height": 295
        },
        "id": "qCVSVviEDWtS",
        "outputId": "59a7257d-6659-43a6-e0d3-c266c2005c31"
      },
      "execution_count": null,
      "outputs": [
        {
          "output_type": "display_data",
          "data": {
            "text/plain": [
              "<Figure size 432x288 with 1 Axes>"
            ],
            "image/png": "[encoded data removed]"
          },
          "metadata": {
            "needs_background": "light"
          }
        }
      ]
    },
    {
      "cell_type": "markdown",
      "source": [
        "In the previous section, we found the active mean values for the regions. This value is 19547.428571428572 for Europe, 5632.0625 for Africa, 115083.94285714286 for America, 4838.0625 for Western Pacific, 11409.318181818182 for Eastern Mediterranean and 63701.5 for South-East Asia. Finally, the world active mean is 34001.935828877. Africa, East Mediterranean, Western Pacific and Europe are in the range of 0-50000 on the chart, while South-East Asia is in the range of 50000-100000 on the chart. Finally, America was in the range of 100000-150000."
      ],
      "metadata": {
        "id": "GrlhKD5gDmku"
      }
    },
    {
      "cell_type": "markdown",
      "source": [
        "# Statistical check wether there exists any significant difference exists between least developed and developed WHO regions."
      ],
      "metadata": {
        "id": "CuhNznZRDrHO"
      }
    },
    {
      "cell_type": "code",
      "source": [
        "print(comparisondf)"
      ],
      "metadata": {
        "colab": {
          "base_uri": "https://localhost:8080/"
        },
        "id": "nqPxDn3iDvBF",
        "outputId": "7fc7e190-c509-4bfe-c247-4c3423729e82"
      },
      "execution_count": null,
      "outputs": [
        {
          "output_type": "stream",
          "name": "stdout",
          "text": [
            "           Africa  Western Pacific\n",
            "Confirmed  723207           292428\n",
            "Deaths      12223             8249\n",
            "Recovered  440645           206770\n",
            "Active     270339            77409\n"
          ]
        }
      ]
    },
    {
      "cell_type": "markdown",
      "source": [
        "previously we compared western pacific and africa WHO regions and above we have world data so now we can compare these two regions to show the relationship."
      ],
      "metadata": {
        "id": "XbWTIMbDD3Ll"
      }
    },
    {
      "cell_type": "code",
      "source": [
        "import numpy as np\n",
        "import matplotlib.pyplot as plt\n",
        "\n",
        "countries =[\"Africa\", \"Western Pacific\"]\n",
        "\n",
        "Deaths = [12223,8249]\n",
        "\n",
        "fig = plt.figure(figsize = (10, 5))\n",
        "\n",
        "plt.bar(countries, Deaths, color ='red',\n",
        "        width = 0.5)\n",
        "\n",
        "plt.title(\"Comparison of africa and Western pacific in terms of deaths\")\n",
        "plt.xlabel(\"Countries\")\n",
        "plt.ylabel(\"Number of Deaths\")\n",
        "plt.show()"
      ],
      "metadata": {
        "colab": {
          "base_uri": "https://localhost:8080/",
          "height": 350
        },
        "id": "FtsCIUcHD4-7",
        "outputId": "7023de9a-6626-4907-80c3-74a10313518a"
      },
      "execution_count": null,
      "outputs": [
        {
          "output_type": "display_data",
          "data": {
            "text/plain": [
              "<Figure size 720x360 with 1 Axes>"
            ],
            "image/png": "[encoded data removed]"
          },
          "metadata": {
            "needs_background": "light"
          }
        }
      ]
    },
    {
      "cell_type": "markdown",
      "source": [
        "Looking at the chart and comparing the Africa-Western Pacific; Death rates in Africa soar above 12000, while for the Western Pacific it's around 8000."
      ],
      "metadata": {
        "id": "AABlSx1tLbpf"
      }
    },
    {
      "cell_type": "code",
      "source": [
        "countries =[\"Africa\", \"Western Pacific\"]\n",
        "\n",
        "Confirmed = [723207,292428]\n",
        "\n",
        "fig = plt.figure(figsize = (10, 5))\n",
        "\n",
        "plt.bar(countries, Confirmed, color ='blue',\n",
        "        width = 0.5)\n",
        "\n",
        "plt.title(\"Comparison of africa and Western pacific in terms of Confirmed Cases\")\n",
        "plt.xlabel(\"Countries\")\n",
        "plt.ylabel(\"Number of Confirmed Cases\")\n",
        "plt.show()"
      ],
      "metadata": {
        "colab": {
          "base_uri": "https://localhost:8080/",
          "height": 350
        },
        "id": "g6I3CBMHD70T",
        "outputId": "760701e1-80c9-432f-b016-686cfe2a5e7f"
      },
      "execution_count": null,
      "outputs": [
        {
          "output_type": "display_data",
          "data": {
            "text/plain": [
              "<Figure size 720x360 with 1 Axes>"
            ],
            "image/png": "[encoded data removed]"
          },
          "metadata": {
            "needs_background": "light"
          }
        }
      ]
    },
    {
      "cell_type": "markdown",
      "source": [
        "Looking at the chart and comparing the Africa-Western Pacific; confirmed cases in Africa soar above 700000, while for the Western Pacific it's around 300000."
      ],
      "metadata": {
        "id": "UJdAvZItLzhs"
      }
    },
    {
      "cell_type": "code",
      "source": [
        "countries =[\"Africa\", \"Western Pacific\"]\n",
        "\n",
        "Active = [270339,77409]\n",
        "\n",
        "fig = plt.figure(figsize = (10, 5))\n",
        "\n",
        "plt.bar(countries, Active, color ='green',\n",
        "        width = 0.5)\n",
        "\n",
        "plt.title(\"Comparison of africa and Western pacific in terms of Active Cases\")\n",
        "plt.xlabel(\"Countries\")\n",
        "plt.ylabel(\"Number of Active Cases\")\n",
        "plt.show()"
      ],
      "metadata": {
        "colab": {
          "base_uri": "https://localhost:8080/",
          "height": 350
        },
        "id": "y-VihJR_D-vu",
        "outputId": "ae0e605b-cc6f-4752-e464-1c3a357efa1f"
      },
      "execution_count": null,
      "outputs": [
        {
          "output_type": "display_data",
          "data": {
            "text/plain": [
              "<Figure size 720x360 with 1 Axes>"
            ],
            "image/png": "[encoded data removed]"
          },
          "metadata": {
            "needs_background": "light"
          }
        }
      ]
    },
    {
      "cell_type": "markdown",
      "source": [
        "Looking at the chart and comparing the Africa-Western Pacific; active cases in Africa soar above 250000, while for the Western Pacific it's in between 50000-100000."
      ],
      "metadata": {
        "id": "V2cEmfkaMCnw"
      }
    },
    {
      "cell_type": "code",
      "source": [
        "import math\n",
        "\n",
        "values = [europe_death_mean, africa_death_mean, americas_death_mean, western_pacific_death_mean, eastern_med_death_mean,SEA_death_mean]\n",
        "\n",
        "def variance(data, ddof=0):\n",
        "  n = len(data)\n",
        "  mean = sum(data) / n\n",
        "  return sum((x - mean) ** 2 for x in data) / (n - ddof)\n",
        "\n",
        "\n",
        "def stdev(data):\n",
        "  var = variance(data)\n",
        "  std_dev = math.sqrt(var)\n",
        "  return std_dev\n",
        "\n",
        "deaths_Std =stdev(values)\n",
        "print(deaths_Std)"
      ],
      "metadata": {
        "colab": {
          "base_uri": "https://localhost:8080/"
        },
        "id": "Lt-g52XKEB7C",
        "outputId": "2c9c68a2-e035-45ab-fb54-baad907d8988"
      },
      "execution_count": null,
      "outputs": [
        {
          "output_type": "stream",
          "name": "stdout",
          "text": [
            "3227.313058574289\n"
          ]
        }
      ]
    },
    {
      "cell_type": "markdown",
      "source": [
        "null hypothesis = Africa as a region has more deaths than western_pacific Ma>Mwp\n",
        "\n",
        "Alternative hypothesis = Western_pacific has more deaths or they have equal deaths Mwp >= Wa"
      ],
      "metadata": {
        "id": "gcr2kYOWfT__"
      }
    },
    {
      "cell_type": "code",
      "source": [
        "world_deaths_size= 12223 + 342732 + 38339 + 211144 + 41349 + 8249"
      ],
      "metadata": {
        "id": "TZVE6krfEFvl"
      },
      "execution_count": null,
      "outputs": []
    },
    {
      "cell_type": "code",
      "source": [
        "# mean and std values for death counts of Africa\n",
        "n = 12223 # population is world_deaths_size\n",
        "values = [europe_death_mean, africa_death_mean, americas_death_mean, western_pacific_death_mean, eastern_med_death_mean,SEA_death_mean]\n",
        "\n",
        "mean = world_death_mean\n",
        "#sampling std is the total deaths of the world /square root of deaths of africa\n",
        "std = stdev(values)\n",
        "offset = 4*std\n",
        "\n",
        "\n",
        "x = np.linspace(mean - offset, mean + offset, n)\n",
        "\n",
        "y = stats.norm.pdf(x, mean, std)\n",
        "\n",
        "plt.figure(figsize=(10, 5))\n",
        "plt.plot(x,y)\n",
        "plt.grid()\n",
        "plt.xlabel(\"death counts\")\n",
        "plt.ylabel(\"Normal Distribution\")\n",
        "plt.fill_between(x, y, alpha=0.3, color=\"b\")\n",
        "plt.title(f\"Normal Dist. of world with Mean {mean}, Std {std}\")\n",
        "plt.show()"
      ],
      "metadata": {
        "colab": {
          "base_uri": "https://localhost:8080/",
          "height": 350
        },
        "id": "sOPkwLMPEKu4",
        "outputId": "0f9b2ccd-1157-48fd-aefa-1bd39bcaae8c"
      },
      "execution_count": null,
      "outputs": [
        {
          "output_type": "display_data",
          "data": {
            "text/plain": [
              "<Figure size 720x360 with 1 Axes>"
            ],
            "image/png": "[encoded data removed]"
          },
          "metadata": {
            "needs_background": "light"
          }
        }
      ]
    },
    {
      "cell_type": "markdown",
      "source": [
        "the above graph represents the distribution of africa by comparing the means with other regions such as Western pacific we can understand the relation but we should first normalize this by calcuating the z value. The more absolute value of z-value gets bigger, the more it shows difference with the mean of the world."
      ],
      "metadata": {
        "id": "6A1FRH5iENAm"
      }
    },
    {
      "cell_type": "code",
      "source": [
        "n = 12223\n",
        "\n",
        "values = [europe_death_mean, africa_death_mean, americas_death_mean, western_pacific_death_mean, eastern_med_death_mean,SEA_death_mean]\n",
        "\n",
        "mean = world_death_mean\n",
        "std = stdev(values)/np.sqrt(n)\n",
        "\n",
        "sample_mean = africa_death_mean\n",
        "\n",
        "z_score = (sample_mean - mean) / std\n",
        "\n",
        "print(\"z-score: {}\".format(z_score))"
      ],
      "metadata": {
        "colab": {
          "base_uri": "https://localhost:8080/"
        },
        "id": "n_q7zlt4EkYz",
        "outputId": "70e72409-392d-464d-b4aa-0a6a746731f7"
      },
      "execution_count": null,
      "outputs": [
        {
          "output_type": "stream",
          "name": "stdout",
          "text": [
            "z-score: -111.09070830667518\n"
          ]
        }
      ]
    },
    {
      "cell_type": "markdown",
      "source": [
        "now we will locate our sample in world normal distribution. Z value is too big due to the fact that world death mean is around 3.4k but africa death mean is only 254, which means the difference between deaths mean is very huge."
      ],
      "metadata": {
        "id": "Lhls2_JmEm_1"
      }
    },
    {
      "cell_type": "code",
      "source": [
        "# mean and std values for death counts of Africa\n",
        "n = 12223 # population is world_deaths_size\n",
        "values = [europe_death_mean, africa_death_mean, americas_death_mean, western_pacific_death_mean, eastern_med_death_mean,SEA_death_mean]\n",
        "\n",
        "mean = world_death_mean\n",
        "#sampling std is the total deaths of the world /square root of deaths of africa\n",
        "std = stdev(values)\n",
        "offset = 4*std\n",
        "\n",
        "\n",
        "x = np.linspace(africa_death_mean, mean + offset, n)\n",
        "\n",
        "y = stats.norm.pdf(x, mean, std)\n",
        "\n",
        "plt.figure(figsize=(10, 5))\n",
        "plt.plot(x,y)\n",
        "plt.grid()\n",
        "plt.xlabel(\"death counts\")\n",
        "plt.ylabel(\"Normal Distribution\")\n",
        "plt.fill_between(x, y, alpha=0.3, color=\"r\")\n",
        "plt.title(f\"Normal Dist. of world with Mean {mean}, Std {std}\")\n",
        "plt.show()"
      ],
      "metadata": {
        "colab": {
          "base_uri": "https://localhost:8080/",
          "height": 350
        },
        "id": "Ew6VeobKEpXa",
        "outputId": "ef9f8914-8be7-4942-a05b-b2d8ed67b93d"
      },
      "execution_count": null,
      "outputs": [
        {
          "output_type": "display_data",
          "data": {
            "text/plain": [
              "<Figure size 720x360 with 1 Axes>"
            ],
            "image/png": "[encoded data removed]"
          },
          "metadata": {
            "needs_background": "light"
          }
        }
      ]
    },
    {
      "cell_type": "markdown",
      "source": [
        "above the left red line is the point where africa stands which is very far left of the graph which shows the average death in africa is vey low when its compared with the world. Now we will do the same analysis for the western pacific.(since there is size problem with number of pixel image is also provided.)"
      ],
      "metadata": {
        "id": "NAnFXiMEEtaa"
      }
    },
    {
      "cell_type": "code",
      "source": [
        "n = 8249\n",
        "\n",
        "values = [europe_death_mean, africa_death_mean, americas_death_mean, western_pacific_death_mean, eastern_med_death_mean,SEA_death_mean]\n",
        "\n",
        "mean = world_death_mean\n",
        "std = stdev(values)/np.sqrt(n)\n",
        "\n",
        "sample_mean = western_pacific_death_mean\n",
        "\n",
        "z_score = (sample_mean - mean) / std\n",
        "\n",
        "print(\"z-score: {}\".format(z_score))"
      ],
      "metadata": {
        "colab": {
          "base_uri": "https://localhost:8080/"
        },
        "id": "Jz-j7LvcEvjl",
        "outputId": "426cfdab-065b-4a95-d0d5-5b16df1e9b73"
      },
      "execution_count": null,
      "outputs": [
        {
          "output_type": "stream",
          "name": "stdout",
          "text": [
            "z-score: -83.91910028839719\n"
          ]
        }
      ]
    },
    {
      "cell_type": "markdown",
      "source": [
        "since the absolute value of z-score is smaller, it means that western pacific region, when its compared with africa, acts more like the rest of the world."
      ],
      "metadata": {
        "id": "yO12OD_zEypq"
      }
    },
    {
      "cell_type": "code",
      "source": [
        "n = 8249 # population is world_deaths_size\n",
        "values = [europe_death_mean, africa_death_mean, americas_death_mean, western_pacific_death_mean, eastern_med_death_mean,SEA_death_mean]\n",
        "\n",
        "mean = world_death_mean\n",
        "#sampling std is the total deaths of the world /square root of deaths of africa\n",
        "std = stdev(values)\n",
        "offset = 4*std\n",
        "\n",
        "\n",
        "x = np.linspace(western_pacific_death_mean, mean + offset, n)\n",
        "\n",
        "y = stats.norm.pdf(x, mean, std)\n",
        "\n",
        "plt.figure(figsize=(10, 5))\n",
        "plt.plot(x,y)\n",
        "plt.grid()\n",
        "plt.xlabel(\"death counts\")\n",
        "plt.ylabel(\"Normal Distribution\")\n",
        "plt.fill_between(x, y, alpha=0.3, color=\"b\")\n",
        "plt.title(f\"Normal Dist. which starts with western pac. {mean}, Std {std}\")\n",
        "plt.show()"
      ],
      "metadata": {
        "colab": {
          "base_uri": "https://localhost:8080/",
          "height": 350
        },
        "id": "QN9Fy0NrFIzH",
        "outputId": "d7bace85-80cf-4905-8de8-e1d231bb78ce"
      },
      "execution_count": null,
      "outputs": [
        {
          "output_type": "display_data",
          "data": {
            "text/plain": [
              "<Figure size 720x360 with 1 Axes>"
            ],
            "image/png": "[encoded data removed]"
          },
          "metadata": {
            "needs_background": "light"
          }
        }
      ]
    },
    {
      "cell_type": "markdown",
      "source": [
        "#Analysis of two regions Africa vs Western Pacific\n",
        "\n",
        "\n",
        "\n",
        "\n",
        "\n",
        "\n",
        "\n",
        "we have a similar result for western pacific region as well but this time we are a bit closer to the mean, however we are still very far from the mean. It looks like Africa, relatively least developed region when its compared with the western pacific region, has lower death average per country(since left side is closer to 0.) but there are other parameters that affect this factor such as number of tests done that confirms that patient has died of covid thus actual covid deaths are probably not recorded as covid deaths. "
      ],
      "metadata": {
        "id": "7dVbHaiuFKKY"
      }
    },
    {
      "cell_type": "markdown",
      "source": [
        "The P value is very small. It is almost zero due to the fact that our z values are very far away from the mean which makes p value smaller than 0.05 which gives us enough reason to reject the null hypothesis"
      ],
      "metadata": {
        "id": "X7kBjAHqgOt9"
      }
    },
    {
      "cell_type": "markdown",
      "source": [
        "# Prediction of death counts for the next seven days in France"
      ],
      "metadata": {
        "id": "aiUX2-gupbrZ"
      }
    },
    {
      "cell_type": "markdown",
      "source": [
        "**In order the predict the future days, we need to find the best line which represents the daily covid deaths**"
      ],
      "metadata": {
        "id": "qooZM1ndped_"
      }
    },
    {
      "cell_type": "code",
      "source": [
        "series = ndf[ndf[\"location\"] == \"France\"]\n",
        "\n",
        "# After this we need to remove the NaN & select the columns of data we want\n",
        "series = series[series[\"new_deaths\"] >= 0]\n",
        "fr_series = series[[\"date\",\"new_deaths\"]]\n",
        "\n",
        "fr_series"
      ],
      "metadata": {
        "colab": {
          "base_uri": "https://localhost:8080/",
          "height": 424
        },
        "id": "nBt00dqJpfyc",
        "outputId": "6a184dcd-5d97-4bf8-9f9f-22adfea11017"
      },
      "execution_count": null,
      "outputs": [
        {
          "output_type": "execute_result",
          "data": {
            "text/plain": [
              "             date  new_deaths\n",
              "53861  2020-02-15         1.0\n",
              "53862  2020-02-16         0.0\n",
              "53863  2020-02-17         0.0\n",
              "53864  2020-02-18         0.0\n",
              "53865  2020-02-19         0.0\n",
              "...           ...         ...\n",
              "54606  2022-03-01       209.0\n",
              "54607  2022-03-02       186.0\n",
              "54608  2022-03-03       180.0\n",
              "54609  2022-03-04       181.0\n",
              "54610  2022-03-05       120.0\n",
              "\n",
              "[741 rows x 2 columns]"
            ],
            "text/html": [
              "\n",
              "  <div id=\"df-a0b41565-3edc-4d8b-87ff-9f2173e0d34a\">\n",
              "    <div class=\"colab-df-container\">\n",
              "      <div>\n",
              "<style scoped>\n",
              "    .dataframe tbody tr th:only-of-type {\n",
              "        vertical-align: middle;\n",
              "    }\n",
              "\n",
              "    .dataframe tbody tr th {\n",
              "        vertical-align: top;\n",
              "    }\n",
              "\n",
              "    .dataframe thead th {\n",
              "        text-align: right;\n",
              "    }\n",
              "</style>\n",
              "<table border=\"1\" class=\"dataframe\">\n",
              "  <thead>\n",
              "    <tr style=\"text-align: right;\">\n",
              "      <th></th>\n",
              "      <th>date</th>\n",
              "      <th>new_deaths</th>\n",
              "    </tr>\n",
              "  </thead>\n",
              "  <tbody>\n",
              "    <tr>\n",
              "      <th>53861</th>\n",
              "      <td>2020-02-15</td>\n",
              "      <td>1.0</td>\n",
              "    </tr>\n",
              "    <tr>\n",
              "      <th>53862</th>\n",
              "      <td>2020-02-16</td>\n",
              "      <td>0.0</td>\n",
              "    </tr>\n",
              "    <tr>\n",
              "      <th>53863</th>\n",
              "      <td>2020-02-17</td>\n",
              "      <td>0.0</td>\n",
              "    </tr>\n",
              "    <tr>\n",
              "      <th>53864</th>\n",
              "      <td>2020-02-18</td>\n",
              "      <td>0.0</td>\n",
              "    </tr>\n",
              "    <tr>\n",
              "      <th>53865</th>\n",
              "      <td>2020-02-19</td>\n",
              "      <td>0.0</td>\n",
              "    </tr>\n",
              "    <tr>\n",
              "      <th>...</th>\n",
              "      <td>...</td>\n",
              "      <td>...</td>\n",
              "    </tr>\n",
              "    <tr>\n",
              "      <th>54606</th>\n",
              "      <td>2022-03-01</td>\n",
              "      <td>209.0</td>\n",
              "    </tr>\n",
              "    <tr>\n",
              "      <th>54607</th>\n",
              "      <td>2022-03-02</td>\n",
              "      <td>186.0</td>\n",
              "    </tr>\n",
              "    <tr>\n",
              "      <th>54608</th>\n",
              "      <td>2022-03-03</td>\n",
              "      <td>180.0</td>\n",
              "    </tr>\n",
              "    <tr>\n",
              "      <th>54609</th>\n",
              "      <td>2022-03-04</td>\n",
              "      <td>181.0</td>\n",
              "    </tr>\n",
              "    <tr>\n",
              "      <th>54610</th>\n",
              "      <td>2022-03-05</td>\n",
              "      <td>120.0</td>\n",
              "    </tr>\n",
              "  </tbody>\n",
              "</table>\n",
              "<p>741 rows × 2 columns</p>\n",
              "</div>\n",
              "      <button class=\"colab-df-convert\" onclick=\"convertToInteractive('df-a0b41565-3edc-4d8b-87ff-9f2173e0d34a')\"\n",
              "              title=\"Convert this dataframe to an interactive table.\"\n",
              "              style=\"display:none;\">\n",
              "        \n",
              "  <svg xmlns=\"http://www.w3.org/2000/svg\" height=\"24px\"viewBox=\"0 0 24 24\"\n",
              "       width=\"24px\">\n",
              "    <path d=\"M0 0h24v24H0V0z\" fill=\"none\"/>\n",
              "    <path d=\"M18.56 5.44l.94 2.06.94-2.06 2.06-.94-2.06-.94-.94-2.06-.94 2.06-2.06.94zm-11 1L8.5 8.5l.94-2.06 2.06-.94-2.06-.94L8.5 2.5l-.94 2.06-2.06.94zm10 10l.94 2.06.94-2.06 2.06-.94-2.06-.94-.94-2.06-.94 2.06-2.06.94z\"/><path d=\"M17.41 7.96l-1.37-1.37c-.4-.4-.92-.59-1.43-.59-.52 0-1.04.2-1.43.59L10.3 9.45l-7.72 7.72c-.78.78-.78 2.05 0 2.83L4 21.41c.39.39.9.59 1.41.59.51 0 1.02-.2 1.41-.59l7.78-7.78 2.81-2.81c.8-.78.8-2.07 0-2.86zM5.41 20L4 18.59l7.72-7.72 1.47 1.35L5.41 20z\"/>\n",
              "  </svg>\n",
              "      </button>\n",
              "      \n",
              "  <style>\n",
              "    .colab-df-container {\n",
              "      display:flex;\n",
              "      flex-wrap:wrap;\n",
              "      gap: 12px;\n",
              "    }\n",
              "\n",
              "    .colab-df-convert {\n",
              "      background-color: #E8F0FE;\n",
              "      border: none;\n",
              "      border-radius: 50%;\n",
              "      cursor: pointer;\n",
              "      display: none;\n",
              "      fill: #1967D2;\n",
              "      height: 32px;\n",
              "      padding: 0 0 0 0;\n",
              "      width: 32px;\n",
              "    }\n",
              "\n",
              "    .colab-df-convert:hover {\n",
              "      background-color: #E2EBFA;\n",
              "      box-shadow: 0px 1px 2px rgba(60, 64, 67, 0.3), 0px 1px 3px 1px rgba(60, 64, 67, 0.15);\n",
              "      fill: #174EA6;\n",
              "    }\n",
              "\n",
              "    [theme=dark] .colab-df-convert {\n",
              "      background-color: #3B4455;\n",
              "      fill: #D2E3FC;\n",
              "    }\n",
              "\n",
              "    [theme=dark] .colab-df-convert:hover {\n",
              "      background-color: #434B5C;\n",
              "      box-shadow: 0px 1px 3px 1px rgba(0, 0, 0, 0.15);\n",
              "      filter: drop-shadow(0px 1px 2px rgba(0, 0, 0, 0.3));\n",
              "      fill: #FFFFFF;\n",
              "    }\n",
              "  </style>\n",
              "\n",
              "      <script>\n",
              "        const buttonEl =\n",
              "          document.querySelector('#df-a0b41565-3edc-4d8b-87ff-9f2173e0d34a button.colab-df-convert');\n",
              "        buttonEl.style.display =\n",
              "          google.colab.kernel.accessAllowed ? 'block' : 'none';\n",
              "\n",
              "        async function convertToInteractive(key) {\n",
              "          const element = document.querySelector('#df-a0b41565-3edc-4d8b-87ff-9f2173e0d34a');\n",
              "          const dataTable =\n",
              "            await google.colab.kernel.invokeFunction('convertToInteractive',\n",
              "                                                     [key], {});\n",
              "          if (!dataTable) return;\n",
              "\n",
              "          const docLinkHtml = 'Like what you see? Visit the ' +\n",
              "            '<a target=\"_blank\" href=https://colab.research.google.com/notebooks/data_table.ipynb>data table notebook</a>'\n",
              "            + ' to learn more about interactive tables.';\n",
              "          element.innerHTML = '';\n",
              "          dataTable['output_type'] = 'display_data';\n",
              "          await google.colab.output.renderOutput(dataTable, element);\n",
              "          const docLink = document.createElement('div');\n",
              "          docLink.innerHTML = docLinkHtml;\n",
              "          element.appendChild(docLink);\n",
              "        }\n",
              "      </script>\n",
              "    </div>\n",
              "  </div>\n",
              "  "
            ]
          },
          "metadata": {},
          "execution_count": 25
        }
      ]
    },
    {
      "cell_type": "code",
      "source": [
        "from sklearn.linear_model import LinearRegression\n",
        "\n",
        "fr_series = series[[\"new_deaths\"]]\n",
        "\n",
        "X = [i for i in range(0, len(fr_series))] # We turn date into number 0,1,2,3,.....\n",
        "X = np.reshape(X, (len(X), 1))\n",
        "Y = fr_series.values\n",
        "model = LinearRegression()\n",
        "\n",
        "model.fit(X, Y)\n",
        "\n",
        "trend_line = model.predict(X)"
      ],
      "metadata": {
        "id": "8BdX3fF8pjlO"
      },
      "execution_count": null,
      "outputs": []
    },
    {
      "cell_type": "code",
      "source": [
        "#And we plot the linear regression line\n",
        "plt.plot(Y)\n",
        "plt.plot(trend_line)\n",
        "plt.xlabel(\"Days\")\n",
        "plt.ylabel(\"Covid Deaths\")\n",
        "plt.title(\"Daily Covid Deaths in France\")\n",
        "plt.show()"
      ],
      "metadata": {
        "colab": {
          "base_uri": "https://localhost:8080/",
          "height": 295
        },
        "id": "3BDvA2UJpmHu",
        "outputId": "64672c57-0fd4-4498-a296-14d53b8e2ba3"
      },
      "execution_count": null,
      "outputs": [
        {
          "output_type": "display_data",
          "data": {
            "text/plain": [
              "<Figure size 432x288 with 1 Axes>"
            ],
            "image/png": "[encoded data removed]"
          },
          "metadata": {
            "needs_background": "light"
          }
        }
      ]
    },
    {
      "cell_type": "markdown",
      "source": [
        "**To predict the next seven days we need death count from the last day & coefficient (slope) of the linear regression graph**"
      ],
      "metadata": {
        "id": "f-ORfXe1pvBq"
      }
    },
    {
      "cell_type": "code",
      "source": [
        "slope = model.coef_[0][0]\n",
        "last_day = len(fr_series)\n",
        "y_i = model.intercept_\n",
        "\n",
        "print(\"Slope:\", slope)\n",
        "print(\"Y intercept\", y_i)\n",
        "print(\"Last day\", len(fr_series))"
      ],
      "metadata": {
        "colab": {
          "base_uri": "https://localhost:8080/"
        },
        "id": "2FdFaWYqpw5P",
        "outputId": "59b766dd-4fac-49ac-ad33-2f59882b25bd"
      },
      "execution_count": null,
      "outputs": [
        {
          "output_type": "stream",
          "name": "stdout",
          "text": [
            "Slope: -0.123846646388851\n",
            "Y intercept [233.43189614]\n",
            "Last day 741\n"
          ]
        }
      ]
    },
    {
      "cell_type": "markdown",
      "source": [
        "Equation is (-0.1770133496399437)x + 233"
      ],
      "metadata": {
        "id": "_zliPh6gp09g"
      }
    },
    {
      "cell_type": "code",
      "source": [
        "def france_covid_calculator (last_day, slope, y_intercept, day_after):\n",
        "    return int((slope * (last_day+day_after)) + y_intercept)\n"
      ],
      "metadata": {
        "id": "1RGC32kap1YY"
      },
      "execution_count": null,
      "outputs": []
    },
    {
      "cell_type": "markdown",
      "source": [
        "Calculations:"
      ],
      "metadata": {
        "id": "akZCqdz2p4Yo"
      }
    },
    {
      "cell_type": "code",
      "source": [
        "print(\"1st day:\", france_covid_calculator(last_day, slope, y_i, 1))\n",
        "print(\"2nd day:\", france_covid_calculator(last_day, slope, y_i, 2))\n",
        "print(\"3rd day:\", france_covid_calculator(last_day, slope, y_i, 3))\n",
        "print(\"4th day:\", france_covid_calculator(last_day, slope, y_i, 4))\n",
        "print(\"5th day:\", france_covid_calculator(last_day, slope, y_i, 5))\n",
        "print(\"6th day:\", france_covid_calculator(last_day, slope, y_i, 6))\n",
        "print(\"7th day:\", france_covid_calculator(last_day, slope, y_i, 7))"
      ],
      "metadata": {
        "colab": {
          "base_uri": "https://localhost:8080/"
        },
        "id": "Oi00hhr1p3D-",
        "outputId": "a17c95f1-4d07-4b82-d3d0-0c658d52b9bb"
      },
      "execution_count": null,
      "outputs": [
        {
          "output_type": "stream",
          "name": "stdout",
          "text": [
            "1st day: 141\n",
            "2nd day: 141\n",
            "3rd day: 141\n",
            "4th day: 141\n",
            "5th day: 141\n",
            "6th day: 140\n",
            "7th day: 140\n"
          ]
        }
      ]
    },
    {
      "cell_type": "markdown",
      "source": [
        "# Prediction of death counts for the next seven days in North America"
      ],
      "metadata": {
        "id": "kUQNDjPrqDLr"
      }
    },
    {
      "cell_type": "markdown",
      "source": [
        "**In order the predict the future days, we need to find the best line which represents the daily covid deaths**"
      ],
      "metadata": {
        "id": "3X54NX2XqFJG"
      }
    },
    {
      "cell_type": "code",
      "source": [
        "eu_df = ndf[ndf[\"continent\"] == \"North America\"]\n",
        "\n",
        "\n",
        "na_df= eu_df.groupby([\"date\"]).sum()\n",
        "\n",
        "# After this we need to remove the NaN & select the columns of data we want\n",
        "na_df = na_df[na_df[\"new_deaths\"] >= 0]\n",
        "na_df = na_df[\"new_deaths\"]\n",
        "na_df"
      ],
      "metadata": {
        "colab": {
          "base_uri": "https://localhost:8080/"
        },
        "id": "2TTG2_MLqFtH",
        "outputId": "516770eb-ea1a-446f-d1cb-289dc57c7315"
      },
      "execution_count": null,
      "outputs": [
        {
          "output_type": "execute_result",
          "data": {
            "text/plain": [
              "date\n",
              "2020-01-01       0.0\n",
              "2020-01-02       0.0\n",
              "2020-01-03       0.0\n",
              "2020-01-04       0.0\n",
              "2020-01-05       0.0\n",
              "               ...  \n",
              "2022-03-01    2219.0\n",
              "2022-03-02    2201.0\n",
              "2022-03-03    2171.0\n",
              "2022-03-04    2510.0\n",
              "2022-03-05     689.0\n",
              "Name: new_deaths, Length: 795, dtype: float64"
            ]
          },
          "metadata": {},
          "execution_count": 27
        }
      ]
    },
    {
      "cell_type": "code",
      "source": [
        "X = [i for i in range(0, len(na_df))] # We turn date into number 0,1,2,3,.....\n",
        "X = np.reshape(X, (len(X), 1))\n",
        "Y = na_df.values\n",
        "model = LinearRegression()\n",
        "\n",
        "model.fit(X, Y)\n",
        "\n",
        "trend_line = model.predict(X)"
      ],
      "metadata": {
        "id": "HDN2FcQPqIQ6"
      },
      "execution_count": null,
      "outputs": []
    },
    {
      "cell_type": "code",
      "source": [
        "# Here we plot the linear regression line\n",
        "plt.plot(Y)\n",
        "plt.plot(trend_line)\n",
        "plt.xlabel(\"Days\")\n",
        "plt.ylabel(\"Covid Deaths\")\n",
        "plt.title(\"Daily Covid Deaths in North America\")\n",
        "plt.show()"
      ],
      "metadata": {
        "colab": {
          "base_uri": "https://localhost:8080/",
          "height": 295
        },
        "id": "RBPOImwgqInp",
        "outputId": "70c612b6-a959-4785-ed6a-db6f21a26a88"
      },
      "execution_count": null,
      "outputs": [
        {
          "output_type": "display_data",
          "data": {
            "text/plain": [
              "<Figure size 432x288 with 1 Axes>"
            ],
            "image/png": "[encoded data removed]"
          },
          "metadata": {
            "needs_background": "light"
          }
        }
      ]
    },
    {
      "cell_type": "markdown",
      "source": [
        "**To predict the next seven days we need death count from the last day & coefficient (slope) of the linear regression graph**"
      ],
      "metadata": {
        "id": "cPc8_n4iqNWy"
      }
    },
    {
      "cell_type": "code",
      "source": [
        "slope = model.coef_[0]\n",
        "#last_day = na_df.iloc[-1] This can be used to find the death count for the last day\n",
        "last_day = len(na_df)\n",
        "y_i = model.intercept_\n",
        "\n",
        "print(\"Slope:\", slope)\n",
        "print(\"Y intercept\", y_i)\n",
        "print(\"Last day\", len(na_df))"
      ],
      "metadata": {
        "colab": {
          "base_uri": "https://localhost:8080/"
        },
        "id": "Cxux5lRyqPXg",
        "outputId": "8b87ad42-091b-44fb-a7c8-8996a1d91846"
      },
      "execution_count": null,
      "outputs": [
        {
          "output_type": "stream",
          "name": "stdout",
          "text": [
            "Slope: 1.59900106492254\n",
            "Y intercept 1101.0946904332986\n",
            "Last day 795\n"
          ]
        }
      ]
    },
    {
      "cell_type": "markdown",
      "source": [
        "Equation is (1.6464653299528385)x + 1101"
      ],
      "metadata": {
        "id": "-0_FkhOCqTET"
      }
    },
    {
      "cell_type": "code",
      "source": [
        "def eu_covid_calculator (last_day, slope, y_intercept, day_after):\n",
        "    return int((slope * (last_day+day_after)) + y_intercept)\n"
      ],
      "metadata": {
        "id": "IW6n1okoqY2Q"
      },
      "execution_count": null,
      "outputs": []
    },
    {
      "cell_type": "markdown",
      "source": [
        "Calculations:"
      ],
      "metadata": {
        "id": "bgT7Gbtlqa8i"
      }
    },
    {
      "cell_type": "code",
      "source": [
        "print(\"1st day:\", eu_covid_calculator (last_day, slope, y_i, 1))\n",
        "print(\"2nd day:\", eu_covid_calculator (last_day, slope, y_i, 2))\n",
        "print(\"3rd day:\", eu_covid_calculator (last_day, slope, y_i, 3))\n",
        "print(\"4th day:\", eu_covid_calculator (last_day, slope, y_i, 4))\n",
        "print(\"5th day:\", eu_covid_calculator (last_day, slope, y_i, 5))\n",
        "print(\"6th day:\", eu_covid_calculator (last_day, slope, y_i, 6))\n",
        "print(\"7th day:\", eu_covid_calculator (last_day, slope, y_i, 7))"
      ],
      "metadata": {
        "colab": {
          "base_uri": "https://localhost:8080/"
        },
        "id": "caab1ai_qbTs",
        "outputId": "a1b3a444-08b1-4662-f0c8-3f2ac5dbdce8"
      },
      "execution_count": null,
      "outputs": [
        {
          "output_type": "stream",
          "name": "stdout",
          "text": [
            "1st day: 2373\n",
            "2nd day: 2375\n",
            "3rd day: 2377\n",
            "4th day: 2378\n",
            "5th day: 2380\n",
            "6th day: 2381\n",
            "7th day: 2383\n"
          ]
        }
      ]
    },
    {
      "cell_type": "markdown",
      "source": [
        "**Predicting the next 30 days for USA.**"
      ],
      "metadata": {
        "id": "Y7GCbkJYc7Du"
      }
    },
    {
      "cell_type": "code",
      "source": [
        "series = ndf[ndf[\"location\"] == \"United States\"]\n",
        "\n",
        "series = series[series[\"new_deaths\"] >= 0]\n",
        "usa_series = series[[\"date\",\"new_deaths\"]]\n",
        "\n",
        "usa_series"
      ],
      "metadata": {
        "id": "9Fxsp2x4c_xp",
        "colab": {
          "base_uri": "https://localhost:8080/",
          "height": 424
        },
        "outputId": "baa76323-ab10-4ba3-88ff-ed1aeafa2b17"
      },
      "execution_count": null,
      "outputs": [
        {
          "output_type": "execute_result",
          "data": {
            "text/plain": [
              "              date  new_deaths\n",
              "157260  2020-02-29         1.0\n",
              "157261  2020-03-01         0.0\n",
              "157262  2020-03-02         5.0\n",
              "157263  2020-03-03         1.0\n",
              "157264  2020-03-04         4.0\n",
              "...            ...         ...\n",
              "157991  2022-03-01      1691.0\n",
              "157992  2022-03-02      2095.0\n",
              "157993  2022-03-03      1743.0\n",
              "157994  2022-03-04      1883.0\n",
              "157995  2022-03-05       293.0\n",
              "\n",
              "[736 rows x 2 columns]"
            ],
            "text/html": [
              "\n",
              "  <div id=\"df-2c368aa1-374b-4559-9215-e9e9923644be\">\n",
              "    <div class=\"colab-df-container\">\n",
              "      <div>\n",
              "<style scoped>\n",
              "    .dataframe tbody tr th:only-of-type {\n",
              "        vertical-align: middle;\n",
              "    }\n",
              "\n",
              "    .dataframe tbody tr th {\n",
              "        vertical-align: top;\n",
              "    }\n",
              "\n",
              "    .dataframe thead th {\n",
              "        text-align: right;\n",
              "    }\n",
              "</style>\n",
              "<table border=\"1\" class=\"dataframe\">\n",
              "  <thead>\n",
              "    <tr style=\"text-align: right;\">\n",
              "      <th></th>\n",
              "      <th>date</th>\n",
              "      <th>new_deaths</th>\n",
              "    </tr>\n",
              "  </thead>\n",
              "  <tbody>\n",
              "    <tr>\n",
              "      <th>157260</th>\n",
              "      <td>2020-02-29</td>\n",
              "      <td>1.0</td>\n",
              "    </tr>\n",
              "    <tr>\n",
              "      <th>157261</th>\n",
              "      <td>2020-03-01</td>\n",
              "      <td>0.0</td>\n",
              "    </tr>\n",
              "    <tr>\n",
              "      <th>157262</th>\n",
              "      <td>2020-03-02</td>\n",
              "      <td>5.0</td>\n",
              "    </tr>\n",
              "    <tr>\n",
              "      <th>157263</th>\n",
              "      <td>2020-03-03</td>\n",
              "      <td>1.0</td>\n",
              "    </tr>\n",
              "    <tr>\n",
              "      <th>157264</th>\n",
              "      <td>2020-03-04</td>\n",
              "      <td>4.0</td>\n",
              "    </tr>\n",
              "    <tr>\n",
              "      <th>...</th>\n",
              "      <td>...</td>\n",
              "      <td>...</td>\n",
              "    </tr>\n",
              "    <tr>\n",
              "      <th>157991</th>\n",
              "      <td>2022-03-01</td>\n",
              "      <td>1691.0</td>\n",
              "    </tr>\n",
              "    <tr>\n",
              "      <th>157992</th>\n",
              "      <td>2022-03-02</td>\n",
              "      <td>2095.0</td>\n",
              "    </tr>\n",
              "    <tr>\n",
              "      <th>157993</th>\n",
              "      <td>2022-03-03</td>\n",
              "      <td>1743.0</td>\n",
              "    </tr>\n",
              "    <tr>\n",
              "      <th>157994</th>\n",
              "      <td>2022-03-04</td>\n",
              "      <td>1883.0</td>\n",
              "    </tr>\n",
              "    <tr>\n",
              "      <th>157995</th>\n",
              "      <td>2022-03-05</td>\n",
              "      <td>293.0</td>\n",
              "    </tr>\n",
              "  </tbody>\n",
              "</table>\n",
              "<p>736 rows × 2 columns</p>\n",
              "</div>\n",
              "      <button class=\"colab-df-convert\" onclick=\"convertToInteractive('df-2c368aa1-374b-4559-9215-e9e9923644be')\"\n",
              "              title=\"Convert this dataframe to an interactive table.\"\n",
              "              style=\"display:none;\">\n",
              "        \n",
              "  <svg xmlns=\"http://www.w3.org/2000/svg\" height=\"24px\"viewBox=\"0 0 24 24\"\n",
              "       width=\"24px\">\n",
              "    <path d=\"M0 0h24v24H0V0z\" fill=\"none\"/>\n",
              "    <path d=\"M18.56 5.44l.94 2.06.94-2.06 2.06-.94-2.06-.94-.94-2.06-.94 2.06-2.06.94zm-11 1L8.5 8.5l.94-2.06 2.06-.94-2.06-.94L8.5 2.5l-.94 2.06-2.06.94zm10 10l.94 2.06.94-2.06 2.06-.94-2.06-.94-.94-2.06-.94 2.06-2.06.94z\"/><path d=\"M17.41 7.96l-1.37-1.37c-.4-.4-.92-.59-1.43-.59-.52 0-1.04.2-1.43.59L10.3 9.45l-7.72 7.72c-.78.78-.78 2.05 0 2.83L4 21.41c.39.39.9.59 1.41.59.51 0 1.02-.2 1.41-.59l7.78-7.78 2.81-2.81c.8-.78.8-2.07 0-2.86zM5.41 20L4 18.59l7.72-7.72 1.47 1.35L5.41 20z\"/>\n",
              "  </svg>\n",
              "      </button>\n",
              "      \n",
              "  <style>\n",
              "    .colab-df-container {\n",
              "      display:flex;\n",
              "      flex-wrap:wrap;\n",
              "      gap: 12px;\n",
              "    }\n",
              "\n",
              "    .colab-df-convert {\n",
              "      background-color: #E8F0FE;\n",
              "      border: none;\n",
              "      border-radius: 50%;\n",
              "      cursor: pointer;\n",
              "      display: none;\n",
              "      fill: #1967D2;\n",
              "      height: 32px;\n",
              "      padding: 0 0 0 0;\n",
              "      width: 32px;\n",
              "    }\n",
              "\n",
              "    .colab-df-convert:hover {\n",
              "      background-color: #E2EBFA;\n",
              "      box-shadow: 0px 1px 2px rgba(60, 64, 67, 0.3), 0px 1px 3px 1px rgba(60, 64, 67, 0.15);\n",
              "      fill: #174EA6;\n",
              "    }\n",
              "\n",
              "    [theme=dark] .colab-df-convert {\n",
              "      background-color: #3B4455;\n",
              "      fill: #D2E3FC;\n",
              "    }\n",
              "\n",
              "    [theme=dark] .colab-df-convert:hover {\n",
              "      background-color: #434B5C;\n",
              "      box-shadow: 0px 1px 3px 1px rgba(0, 0, 0, 0.15);\n",
              "      filter: drop-shadow(0px 1px 2px rgba(0, 0, 0, 0.3));\n",
              "      fill: #FFFFFF;\n",
              "    }\n",
              "  </style>\n",
              "\n",
              "      <script>\n",
              "        const buttonEl =\n",
              "          document.querySelector('#df-2c368aa1-374b-4559-9215-e9e9923644be button.colab-df-convert');\n",
              "        buttonEl.style.display =\n",
              "          google.colab.kernel.accessAllowed ? 'block' : 'none';\n",
              "\n",
              "        async function convertToInteractive(key) {\n",
              "          const element = document.querySelector('#df-2c368aa1-374b-4559-9215-e9e9923644be');\n",
              "          const dataTable =\n",
              "            await google.colab.kernel.invokeFunction('convertToInteractive',\n",
              "                                                     [key], {});\n",
              "          if (!dataTable) return;\n",
              "\n",
              "          const docLinkHtml = 'Like what you see? Visit the ' +\n",
              "            '<a target=\"_blank\" href=https://colab.research.google.com/notebooks/data_table.ipynb>data table notebook</a>'\n",
              "            + ' to learn more about interactive tables.';\n",
              "          element.innerHTML = '';\n",
              "          dataTable['output_type'] = 'display_data';\n",
              "          await google.colab.output.renderOutput(dataTable, element);\n",
              "          const docLink = document.createElement('div');\n",
              "          docLink.innerHTML = docLinkHtml;\n",
              "          element.appendChild(docLink);\n",
              "        }\n",
              "      </script>\n",
              "    </div>\n",
              "  </div>\n",
              "  "
            ]
          },
          "metadata": {},
          "execution_count": 10
        }
      ]
    },
    {
      "cell_type": "markdown",
      "source": [
        "Linear regression model for the united states"
      ],
      "metadata": {
        "id": "SzLsBseDjmO1"
      }
    },
    {
      "cell_type": "code",
      "source": [
        "from sklearn.linear_model import LinearRegression\n",
        "\n",
        "usa_series = series[[\"new_deaths\"]]\n",
        "\n",
        "X = [i for i in range(0, len(usa_series))] # We turn date into number 0,1,2,3,.....\n",
        "X = np.reshape(X, (len(X), 1))\n",
        "Y = usa_series.values\n",
        "model = LinearRegression()\n",
        "\n",
        "model.fit(X, Y)\n",
        "\n",
        "trend_line = model.predict(X)"
      ],
      "metadata": {
        "id": "8vr8nSeQdCaC"
      },
      "execution_count": null,
      "outputs": []
    },
    {
      "cell_type": "code",
      "source": [
        "plt.plot(Y)\n",
        "plt.plot(trend_line)\n",
        "plt.xlabel(\"Days\")\n",
        "plt.ylabel(\"Covid Deaths\")\n",
        "plt.title(\"Daily Covid Deaths in USA\")\n",
        "plt.show()"
      ],
      "metadata": {
        "id": "C623yq3ddF05",
        "colab": {
          "base_uri": "https://localhost:8080/",
          "height": 295
        },
        "outputId": "e06c78ea-59a8-4cb1-eb48-55d6b6248e67"
      },
      "execution_count": null,
      "outputs": [
        {
          "output_type": "display_data",
          "data": {
            "text/plain": [
              "<Figure size 432x288 with 1 Axes>"
            ],
            "image/png": "[encoded data removed]"
          },
          "metadata": {
            "needs_background": "light"
          }
        }
      ]
    },
    {
      "cell_type": "code",
      "source": [
        "slope = model.coef_[0][0]\n",
        "last_day = len(usa_series)\n",
        "y_i = model.intercept_\n",
        "\n",
        "print(\"Slope:\", slope)\n",
        "print(\"Y intercept\", y_i)\n",
        "print(\"Last day\", len(usa_series))"
      ],
      "metadata": {
        "id": "jtxoQfXkdIAY",
        "colab": {
          "base_uri": "https://localhost:8080/"
        },
        "outputId": "05bdf845-7e43-4a35-a701-8302408948ba"
      },
      "execution_count": null,
      "outputs": [
        {
          "output_type": "stream",
          "name": "stdout",
          "text": [
            "Slope: 0.7400727216141605\n",
            "Y intercept [1030.24745959]\n",
            "Last day 736\n"
          ]
        }
      ]
    },
    {
      "cell_type": "code",
      "source": [
        "def usa_covid_calculator (last_day, slope, y_intercept, day_after):\n",
        "    return int((slope * (last_day+day_after)) + y_intercept)"
      ],
      "metadata": {
        "id": "VcHscgPMdKZP"
      },
      "execution_count": null,
      "outputs": []
    },
    {
      "cell_type": "markdown",
      "source": [
        "predicting the deaths counts for the following 30 days of the united states"
      ],
      "metadata": {
        "id": "BeLVh4ZTjVB4"
      }
    },
    {
      "cell_type": "code",
      "source": [
        "i = 1;\n",
        "while i<=30:\n",
        "  print(\"Day\",i,\":\", usa_covid_calculator(last_day, slope, y_i, i))\n",
        "  i = i+1"
      ],
      "metadata": {
        "id": "4uLnClJkdOYN",
        "colab": {
          "base_uri": "https://localhost:8080/"
        },
        "outputId": "885eb82c-e658-4874-f4bd-58752b1e9a1b"
      },
      "execution_count": null,
      "outputs": [
        {
          "output_type": "stream",
          "name": "stdout",
          "text": [
            "Day 1 : 1575\n",
            "Day 2 : 1576\n",
            "Day 3 : 1577\n",
            "Day 4 : 1577\n",
            "Day 5 : 1578\n",
            "Day 6 : 1579\n",
            "Day 7 : 1580\n",
            "Day 8 : 1580\n",
            "Day 9 : 1581\n",
            "Day 10 : 1582\n",
            "Day 11 : 1583\n",
            "Day 12 : 1583\n",
            "Day 13 : 1584\n",
            "Day 14 : 1585\n",
            "Day 15 : 1586\n",
            "Day 16 : 1586\n",
            "Day 17 : 1587\n",
            "Day 18 : 1588\n",
            "Day 19 : 1589\n",
            "Day 20 : 1589\n",
            "Day 21 : 1590\n",
            "Day 22 : 1591\n",
            "Day 23 : 1591\n",
            "Day 24 : 1592\n",
            "Day 25 : 1593\n",
            "Day 26 : 1594\n",
            "Day 27 : 1594\n",
            "Day 28 : 1595\n",
            "Day 29 : 1596\n",
            "Day 30 : 1597\n"
          ]
        }
      ]
    }
  ]
}